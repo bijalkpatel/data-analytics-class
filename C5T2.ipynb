{
 "cells": [
  {
   "cell_type": "code",
   "execution_count": 1,
   "metadata": {},
   "outputs": [],
   "source": [
    "## import libraries\n",
    "import numpy as np\n",
    "import pandas as pd\n",
    "import matplotlib.pyplot as plt\n",
    "import seaborn as sns"
   ]
  },
  {
   "cell_type": "code",
   "execution_count": 2,
   "metadata": {},
   "outputs": [],
   "source": [
    "## import data\n",
    "credit = pd.read_csv('default of credit card clients.csv', header =1)"
   ]
  },
  {
   "cell_type": "code",
   "execution_count": 3,
   "metadata": {},
   "outputs": [
    {
     "data": {
      "text/html": [
       "<div>\n",
       "<style scoped>\n",
       "    .dataframe tbody tr th:only-of-type {\n",
       "        vertical-align: middle;\n",
       "    }\n",
       "\n",
       "    .dataframe tbody tr th {\n",
       "        vertical-align: top;\n",
       "    }\n",
       "\n",
       "    .dataframe thead th {\n",
       "        text-align: right;\n",
       "    }\n",
       "</style>\n",
       "<table border=\"1\" class=\"dataframe\">\n",
       "  <thead>\n",
       "    <tr style=\"text-align: right;\">\n",
       "      <th></th>\n",
       "      <th>ID</th>\n",
       "      <th>LIMIT_BAL</th>\n",
       "      <th>SEX</th>\n",
       "      <th>EDUCATION</th>\n",
       "      <th>MARRIAGE</th>\n",
       "      <th>AGE</th>\n",
       "      <th>PAY_0</th>\n",
       "      <th>PAY_2</th>\n",
       "      <th>PAY_3</th>\n",
       "      <th>PAY_4</th>\n",
       "      <th>...</th>\n",
       "      <th>BILL_AMT4</th>\n",
       "      <th>BILL_AMT5</th>\n",
       "      <th>BILL_AMT6</th>\n",
       "      <th>PAY_AMT1</th>\n",
       "      <th>PAY_AMT2</th>\n",
       "      <th>PAY_AMT3</th>\n",
       "      <th>PAY_AMT4</th>\n",
       "      <th>PAY_AMT5</th>\n",
       "      <th>PAY_AMT6</th>\n",
       "      <th>default payment next month</th>\n",
       "    </tr>\n",
       "  </thead>\n",
       "  <tbody>\n",
       "    <tr>\n",
       "      <td>0</td>\n",
       "      <td>1</td>\n",
       "      <td>20000</td>\n",
       "      <td>2</td>\n",
       "      <td>2</td>\n",
       "      <td>1</td>\n",
       "      <td>24</td>\n",
       "      <td>2</td>\n",
       "      <td>2</td>\n",
       "      <td>-1</td>\n",
       "      <td>-1</td>\n",
       "      <td>...</td>\n",
       "      <td>0</td>\n",
       "      <td>0</td>\n",
       "      <td>0</td>\n",
       "      <td>0</td>\n",
       "      <td>689</td>\n",
       "      <td>0</td>\n",
       "      <td>0</td>\n",
       "      <td>0</td>\n",
       "      <td>0</td>\n",
       "      <td>1</td>\n",
       "    </tr>\n",
       "    <tr>\n",
       "      <td>1</td>\n",
       "      <td>2</td>\n",
       "      <td>120000</td>\n",
       "      <td>2</td>\n",
       "      <td>2</td>\n",
       "      <td>2</td>\n",
       "      <td>26</td>\n",
       "      <td>-1</td>\n",
       "      <td>2</td>\n",
       "      <td>0</td>\n",
       "      <td>0</td>\n",
       "      <td>...</td>\n",
       "      <td>3272</td>\n",
       "      <td>3455</td>\n",
       "      <td>3261</td>\n",
       "      <td>0</td>\n",
       "      <td>1000</td>\n",
       "      <td>1000</td>\n",
       "      <td>1000</td>\n",
       "      <td>0</td>\n",
       "      <td>2000</td>\n",
       "      <td>1</td>\n",
       "    </tr>\n",
       "    <tr>\n",
       "      <td>2</td>\n",
       "      <td>3</td>\n",
       "      <td>90000</td>\n",
       "      <td>2</td>\n",
       "      <td>2</td>\n",
       "      <td>2</td>\n",
       "      <td>34</td>\n",
       "      <td>0</td>\n",
       "      <td>0</td>\n",
       "      <td>0</td>\n",
       "      <td>0</td>\n",
       "      <td>...</td>\n",
       "      <td>14331</td>\n",
       "      <td>14948</td>\n",
       "      <td>15549</td>\n",
       "      <td>1518</td>\n",
       "      <td>1500</td>\n",
       "      <td>1000</td>\n",
       "      <td>1000</td>\n",
       "      <td>1000</td>\n",
       "      <td>5000</td>\n",
       "      <td>0</td>\n",
       "    </tr>\n",
       "    <tr>\n",
       "      <td>3</td>\n",
       "      <td>4</td>\n",
       "      <td>50000</td>\n",
       "      <td>2</td>\n",
       "      <td>2</td>\n",
       "      <td>1</td>\n",
       "      <td>37</td>\n",
       "      <td>0</td>\n",
       "      <td>0</td>\n",
       "      <td>0</td>\n",
       "      <td>0</td>\n",
       "      <td>...</td>\n",
       "      <td>28314</td>\n",
       "      <td>28959</td>\n",
       "      <td>29547</td>\n",
       "      <td>2000</td>\n",
       "      <td>2019</td>\n",
       "      <td>1200</td>\n",
       "      <td>1100</td>\n",
       "      <td>1069</td>\n",
       "      <td>1000</td>\n",
       "      <td>0</td>\n",
       "    </tr>\n",
       "    <tr>\n",
       "      <td>4</td>\n",
       "      <td>5</td>\n",
       "      <td>50000</td>\n",
       "      <td>1</td>\n",
       "      <td>2</td>\n",
       "      <td>1</td>\n",
       "      <td>57</td>\n",
       "      <td>-1</td>\n",
       "      <td>0</td>\n",
       "      <td>-1</td>\n",
       "      <td>0</td>\n",
       "      <td>...</td>\n",
       "      <td>20940</td>\n",
       "      <td>19146</td>\n",
       "      <td>19131</td>\n",
       "      <td>2000</td>\n",
       "      <td>36681</td>\n",
       "      <td>10000</td>\n",
       "      <td>9000</td>\n",
       "      <td>689</td>\n",
       "      <td>679</td>\n",
       "      <td>0</td>\n",
       "    </tr>\n",
       "  </tbody>\n",
       "</table>\n",
       "<p>5 rows × 25 columns</p>\n",
       "</div>"
      ],
      "text/plain": [
       "   ID  LIMIT_BAL  SEX  EDUCATION  MARRIAGE  AGE  PAY_0  PAY_2  PAY_3  PAY_4  \\\n",
       "0   1      20000    2          2         1   24      2      2     -1     -1   \n",
       "1   2     120000    2          2         2   26     -1      2      0      0   \n",
       "2   3      90000    2          2         2   34      0      0      0      0   \n",
       "3   4      50000    2          2         1   37      0      0      0      0   \n",
       "4   5      50000    1          2         1   57     -1      0     -1      0   \n",
       "\n",
       "   ...  BILL_AMT4  BILL_AMT5  BILL_AMT6  PAY_AMT1  PAY_AMT2  PAY_AMT3  \\\n",
       "0  ...          0          0          0         0       689         0   \n",
       "1  ...       3272       3455       3261         0      1000      1000   \n",
       "2  ...      14331      14948      15549      1518      1500      1000   \n",
       "3  ...      28314      28959      29547      2000      2019      1200   \n",
       "4  ...      20940      19146      19131      2000     36681     10000   \n",
       "\n",
       "   PAY_AMT4  PAY_AMT5  PAY_AMT6  default payment next month  \n",
       "0         0         0         0                           1  \n",
       "1      1000         0      2000                           1  \n",
       "2      1000      1000      5000                           0  \n",
       "3      1100      1069      1000                           0  \n",
       "4      9000       689       679                           0  \n",
       "\n",
       "[5 rows x 25 columns]"
      ]
     },
     "execution_count": 3,
     "metadata": {},
     "output_type": "execute_result"
    }
   ],
   "source": [
    "## view data\n",
    "credit.head()"
   ]
  },
  {
   "cell_type": "code",
   "execution_count": 4,
   "metadata": {
    "scrolled": true
   },
   "outputs": [
    {
     "data": {
      "text/html": [
       "<div>\n",
       "<style scoped>\n",
       "    .dataframe tbody tr th:only-of-type {\n",
       "        vertical-align: middle;\n",
       "    }\n",
       "\n",
       "    .dataframe tbody tr th {\n",
       "        vertical-align: top;\n",
       "    }\n",
       "\n",
       "    .dataframe thead th {\n",
       "        text-align: right;\n",
       "    }\n",
       "</style>\n",
       "<table border=\"1\" class=\"dataframe\">\n",
       "  <thead>\n",
       "    <tr style=\"text-align: right;\">\n",
       "      <th></th>\n",
       "      <th>ID</th>\n",
       "      <th>LIMIT_BAL</th>\n",
       "      <th>SEX</th>\n",
       "      <th>EDUCATION</th>\n",
       "      <th>MARRIAGE</th>\n",
       "      <th>AGE</th>\n",
       "      <th>PAY_0</th>\n",
       "      <th>PAY_2</th>\n",
       "      <th>PAY_3</th>\n",
       "      <th>PAY_4</th>\n",
       "      <th>...</th>\n",
       "      <th>BILL_AMT4</th>\n",
       "      <th>BILL_AMT5</th>\n",
       "      <th>BILL_AMT6</th>\n",
       "      <th>PAY_AMT1</th>\n",
       "      <th>PAY_AMT2</th>\n",
       "      <th>PAY_AMT3</th>\n",
       "      <th>PAY_AMT4</th>\n",
       "      <th>PAY_AMT5</th>\n",
       "      <th>PAY_AMT6</th>\n",
       "      <th>default payment next month</th>\n",
       "    </tr>\n",
       "  </thead>\n",
       "  <tbody>\n",
       "    <tr>\n",
       "      <td>count</td>\n",
       "      <td>30000.000000</td>\n",
       "      <td>30000.000000</td>\n",
       "      <td>30000.000000</td>\n",
       "      <td>30000.000000</td>\n",
       "      <td>30000.000000</td>\n",
       "      <td>30000.000000</td>\n",
       "      <td>30000.000000</td>\n",
       "      <td>30000.000000</td>\n",
       "      <td>30000.000000</td>\n",
       "      <td>30000.000000</td>\n",
       "      <td>...</td>\n",
       "      <td>30000.000000</td>\n",
       "      <td>30000.000000</td>\n",
       "      <td>30000.000000</td>\n",
       "      <td>30000.000000</td>\n",
       "      <td>3.000000e+04</td>\n",
       "      <td>30000.00000</td>\n",
       "      <td>30000.000000</td>\n",
       "      <td>30000.000000</td>\n",
       "      <td>30000.000000</td>\n",
       "      <td>30000.000000</td>\n",
       "    </tr>\n",
       "    <tr>\n",
       "      <td>mean</td>\n",
       "      <td>15000.500000</td>\n",
       "      <td>167484.322667</td>\n",
       "      <td>1.603733</td>\n",
       "      <td>1.853133</td>\n",
       "      <td>1.551867</td>\n",
       "      <td>35.485500</td>\n",
       "      <td>-0.016700</td>\n",
       "      <td>-0.133767</td>\n",
       "      <td>-0.166200</td>\n",
       "      <td>-0.220667</td>\n",
       "      <td>...</td>\n",
       "      <td>43262.948967</td>\n",
       "      <td>40311.400967</td>\n",
       "      <td>38871.760400</td>\n",
       "      <td>5663.580500</td>\n",
       "      <td>5.921163e+03</td>\n",
       "      <td>5225.68150</td>\n",
       "      <td>4826.076867</td>\n",
       "      <td>4799.387633</td>\n",
       "      <td>5215.502567</td>\n",
       "      <td>0.221200</td>\n",
       "    </tr>\n",
       "    <tr>\n",
       "      <td>std</td>\n",
       "      <td>8660.398374</td>\n",
       "      <td>129747.661567</td>\n",
       "      <td>0.489129</td>\n",
       "      <td>0.790349</td>\n",
       "      <td>0.521970</td>\n",
       "      <td>9.217904</td>\n",
       "      <td>1.123802</td>\n",
       "      <td>1.197186</td>\n",
       "      <td>1.196868</td>\n",
       "      <td>1.169139</td>\n",
       "      <td>...</td>\n",
       "      <td>64332.856134</td>\n",
       "      <td>60797.155770</td>\n",
       "      <td>59554.107537</td>\n",
       "      <td>16563.280354</td>\n",
       "      <td>2.304087e+04</td>\n",
       "      <td>17606.96147</td>\n",
       "      <td>15666.159744</td>\n",
       "      <td>15278.305679</td>\n",
       "      <td>17777.465775</td>\n",
       "      <td>0.415062</td>\n",
       "    </tr>\n",
       "    <tr>\n",
       "      <td>min</td>\n",
       "      <td>1.000000</td>\n",
       "      <td>10000.000000</td>\n",
       "      <td>1.000000</td>\n",
       "      <td>0.000000</td>\n",
       "      <td>0.000000</td>\n",
       "      <td>21.000000</td>\n",
       "      <td>-2.000000</td>\n",
       "      <td>-2.000000</td>\n",
       "      <td>-2.000000</td>\n",
       "      <td>-2.000000</td>\n",
       "      <td>...</td>\n",
       "      <td>-170000.000000</td>\n",
       "      <td>-81334.000000</td>\n",
       "      <td>-339603.000000</td>\n",
       "      <td>0.000000</td>\n",
       "      <td>0.000000e+00</td>\n",
       "      <td>0.00000</td>\n",
       "      <td>0.000000</td>\n",
       "      <td>0.000000</td>\n",
       "      <td>0.000000</td>\n",
       "      <td>0.000000</td>\n",
       "    </tr>\n",
       "    <tr>\n",
       "      <td>25%</td>\n",
       "      <td>7500.750000</td>\n",
       "      <td>50000.000000</td>\n",
       "      <td>1.000000</td>\n",
       "      <td>1.000000</td>\n",
       "      <td>1.000000</td>\n",
       "      <td>28.000000</td>\n",
       "      <td>-1.000000</td>\n",
       "      <td>-1.000000</td>\n",
       "      <td>-1.000000</td>\n",
       "      <td>-1.000000</td>\n",
       "      <td>...</td>\n",
       "      <td>2326.750000</td>\n",
       "      <td>1763.000000</td>\n",
       "      <td>1256.000000</td>\n",
       "      <td>1000.000000</td>\n",
       "      <td>8.330000e+02</td>\n",
       "      <td>390.00000</td>\n",
       "      <td>296.000000</td>\n",
       "      <td>252.500000</td>\n",
       "      <td>117.750000</td>\n",
       "      <td>0.000000</td>\n",
       "    </tr>\n",
       "    <tr>\n",
       "      <td>50%</td>\n",
       "      <td>15000.500000</td>\n",
       "      <td>140000.000000</td>\n",
       "      <td>2.000000</td>\n",
       "      <td>2.000000</td>\n",
       "      <td>2.000000</td>\n",
       "      <td>34.000000</td>\n",
       "      <td>0.000000</td>\n",
       "      <td>0.000000</td>\n",
       "      <td>0.000000</td>\n",
       "      <td>0.000000</td>\n",
       "      <td>...</td>\n",
       "      <td>19052.000000</td>\n",
       "      <td>18104.500000</td>\n",
       "      <td>17071.000000</td>\n",
       "      <td>2100.000000</td>\n",
       "      <td>2.009000e+03</td>\n",
       "      <td>1800.00000</td>\n",
       "      <td>1500.000000</td>\n",
       "      <td>1500.000000</td>\n",
       "      <td>1500.000000</td>\n",
       "      <td>0.000000</td>\n",
       "    </tr>\n",
       "    <tr>\n",
       "      <td>75%</td>\n",
       "      <td>22500.250000</td>\n",
       "      <td>240000.000000</td>\n",
       "      <td>2.000000</td>\n",
       "      <td>2.000000</td>\n",
       "      <td>2.000000</td>\n",
       "      <td>41.000000</td>\n",
       "      <td>0.000000</td>\n",
       "      <td>0.000000</td>\n",
       "      <td>0.000000</td>\n",
       "      <td>0.000000</td>\n",
       "      <td>...</td>\n",
       "      <td>54506.000000</td>\n",
       "      <td>50190.500000</td>\n",
       "      <td>49198.250000</td>\n",
       "      <td>5006.000000</td>\n",
       "      <td>5.000000e+03</td>\n",
       "      <td>4505.00000</td>\n",
       "      <td>4013.250000</td>\n",
       "      <td>4031.500000</td>\n",
       "      <td>4000.000000</td>\n",
       "      <td>0.000000</td>\n",
       "    </tr>\n",
       "    <tr>\n",
       "      <td>max</td>\n",
       "      <td>30000.000000</td>\n",
       "      <td>1000000.000000</td>\n",
       "      <td>2.000000</td>\n",
       "      <td>6.000000</td>\n",
       "      <td>3.000000</td>\n",
       "      <td>79.000000</td>\n",
       "      <td>8.000000</td>\n",
       "      <td>8.000000</td>\n",
       "      <td>8.000000</td>\n",
       "      <td>8.000000</td>\n",
       "      <td>...</td>\n",
       "      <td>891586.000000</td>\n",
       "      <td>927171.000000</td>\n",
       "      <td>961664.000000</td>\n",
       "      <td>873552.000000</td>\n",
       "      <td>1.684259e+06</td>\n",
       "      <td>896040.00000</td>\n",
       "      <td>621000.000000</td>\n",
       "      <td>426529.000000</td>\n",
       "      <td>528666.000000</td>\n",
       "      <td>1.000000</td>\n",
       "    </tr>\n",
       "  </tbody>\n",
       "</table>\n",
       "<p>8 rows × 25 columns</p>\n",
       "</div>"
      ],
      "text/plain": [
       "                 ID       LIMIT_BAL           SEX     EDUCATION      MARRIAGE  \\\n",
       "count  30000.000000    30000.000000  30000.000000  30000.000000  30000.000000   \n",
       "mean   15000.500000   167484.322667      1.603733      1.853133      1.551867   \n",
       "std     8660.398374   129747.661567      0.489129      0.790349      0.521970   \n",
       "min        1.000000    10000.000000      1.000000      0.000000      0.000000   \n",
       "25%     7500.750000    50000.000000      1.000000      1.000000      1.000000   \n",
       "50%    15000.500000   140000.000000      2.000000      2.000000      2.000000   \n",
       "75%    22500.250000   240000.000000      2.000000      2.000000      2.000000   \n",
       "max    30000.000000  1000000.000000      2.000000      6.000000      3.000000   \n",
       "\n",
       "                AGE         PAY_0         PAY_2         PAY_3         PAY_4  \\\n",
       "count  30000.000000  30000.000000  30000.000000  30000.000000  30000.000000   \n",
       "mean      35.485500     -0.016700     -0.133767     -0.166200     -0.220667   \n",
       "std        9.217904      1.123802      1.197186      1.196868      1.169139   \n",
       "min       21.000000     -2.000000     -2.000000     -2.000000     -2.000000   \n",
       "25%       28.000000     -1.000000     -1.000000     -1.000000     -1.000000   \n",
       "50%       34.000000      0.000000      0.000000      0.000000      0.000000   \n",
       "75%       41.000000      0.000000      0.000000      0.000000      0.000000   \n",
       "max       79.000000      8.000000      8.000000      8.000000      8.000000   \n",
       "\n",
       "       ...      BILL_AMT4      BILL_AMT5      BILL_AMT6       PAY_AMT1  \\\n",
       "count  ...   30000.000000   30000.000000   30000.000000   30000.000000   \n",
       "mean   ...   43262.948967   40311.400967   38871.760400    5663.580500   \n",
       "std    ...   64332.856134   60797.155770   59554.107537   16563.280354   \n",
       "min    ... -170000.000000  -81334.000000 -339603.000000       0.000000   \n",
       "25%    ...    2326.750000    1763.000000    1256.000000    1000.000000   \n",
       "50%    ...   19052.000000   18104.500000   17071.000000    2100.000000   \n",
       "75%    ...   54506.000000   50190.500000   49198.250000    5006.000000   \n",
       "max    ...  891586.000000  927171.000000  961664.000000  873552.000000   \n",
       "\n",
       "           PAY_AMT2      PAY_AMT3       PAY_AMT4       PAY_AMT5  \\\n",
       "count  3.000000e+04   30000.00000   30000.000000   30000.000000   \n",
       "mean   5.921163e+03    5225.68150    4826.076867    4799.387633   \n",
       "std    2.304087e+04   17606.96147   15666.159744   15278.305679   \n",
       "min    0.000000e+00       0.00000       0.000000       0.000000   \n",
       "25%    8.330000e+02     390.00000     296.000000     252.500000   \n",
       "50%    2.009000e+03    1800.00000    1500.000000    1500.000000   \n",
       "75%    5.000000e+03    4505.00000    4013.250000    4031.500000   \n",
       "max    1.684259e+06  896040.00000  621000.000000  426529.000000   \n",
       "\n",
       "            PAY_AMT6  default payment next month  \n",
       "count   30000.000000                30000.000000  \n",
       "mean     5215.502567                    0.221200  \n",
       "std     17777.465775                    0.415062  \n",
       "min         0.000000                    0.000000  \n",
       "25%       117.750000                    0.000000  \n",
       "50%      1500.000000                    0.000000  \n",
       "75%      4000.000000                    0.000000  \n",
       "max    528666.000000                    1.000000  \n",
       "\n",
       "[8 rows x 25 columns]"
      ]
     },
     "execution_count": 4,
     "metadata": {},
     "output_type": "execute_result"
    }
   ],
   "source": [
    "## view data\n",
    "credit.describe()"
   ]
  },
  {
   "cell_type": "code",
   "execution_count": 6,
   "metadata": {},
   "outputs": [
    {
     "data": {
      "text/html": [
       "<div>\n",
       "<style scoped>\n",
       "    .dataframe tbody tr th:only-of-type {\n",
       "        vertical-align: middle;\n",
       "    }\n",
       "\n",
       "    .dataframe tbody tr th {\n",
       "        vertical-align: top;\n",
       "    }\n",
       "\n",
       "    .dataframe thead th {\n",
       "        text-align: right;\n",
       "    }\n",
       "</style>\n",
       "<table border=\"1\" class=\"dataframe\">\n",
       "  <thead>\n",
       "    <tr style=\"text-align: right;\">\n",
       "      <th></th>\n",
       "      <th>ID</th>\n",
       "      <th>LIMIT_BAL</th>\n",
       "      <th>SEX</th>\n",
       "      <th>EDUCATION</th>\n",
       "      <th>MARRIAGE</th>\n",
       "      <th>AGE</th>\n",
       "      <th>PAY_0</th>\n",
       "      <th>PAY_2</th>\n",
       "      <th>PAY_3</th>\n",
       "      <th>PAY_4</th>\n",
       "      <th>...</th>\n",
       "      <th>BILL_AMT4</th>\n",
       "      <th>BILL_AMT5</th>\n",
       "      <th>BILL_AMT6</th>\n",
       "      <th>PAY_AMT1</th>\n",
       "      <th>PAY_AMT2</th>\n",
       "      <th>PAY_AMT3</th>\n",
       "      <th>PAY_AMT4</th>\n",
       "      <th>PAY_AMT5</th>\n",
       "      <th>PAY_AMT6</th>\n",
       "      <th>default payment next month</th>\n",
       "    </tr>\n",
       "  </thead>\n",
       "  <tbody>\n",
       "    <tr>\n",
       "      <td>29995</td>\n",
       "      <td>29996</td>\n",
       "      <td>220000</td>\n",
       "      <td>1</td>\n",
       "      <td>3</td>\n",
       "      <td>1</td>\n",
       "      <td>39</td>\n",
       "      <td>0</td>\n",
       "      <td>0</td>\n",
       "      <td>0</td>\n",
       "      <td>0</td>\n",
       "      <td>...</td>\n",
       "      <td>88004</td>\n",
       "      <td>31237</td>\n",
       "      <td>15980</td>\n",
       "      <td>8500</td>\n",
       "      <td>20000</td>\n",
       "      <td>5003</td>\n",
       "      <td>3047</td>\n",
       "      <td>5000</td>\n",
       "      <td>1000</td>\n",
       "      <td>0</td>\n",
       "    </tr>\n",
       "    <tr>\n",
       "      <td>29996</td>\n",
       "      <td>29997</td>\n",
       "      <td>150000</td>\n",
       "      <td>1</td>\n",
       "      <td>3</td>\n",
       "      <td>2</td>\n",
       "      <td>43</td>\n",
       "      <td>-1</td>\n",
       "      <td>-1</td>\n",
       "      <td>-1</td>\n",
       "      <td>-1</td>\n",
       "      <td>...</td>\n",
       "      <td>8979</td>\n",
       "      <td>5190</td>\n",
       "      <td>0</td>\n",
       "      <td>1837</td>\n",
       "      <td>3526</td>\n",
       "      <td>8998</td>\n",
       "      <td>129</td>\n",
       "      <td>0</td>\n",
       "      <td>0</td>\n",
       "      <td>0</td>\n",
       "    </tr>\n",
       "    <tr>\n",
       "      <td>29997</td>\n",
       "      <td>29998</td>\n",
       "      <td>30000</td>\n",
       "      <td>1</td>\n",
       "      <td>2</td>\n",
       "      <td>2</td>\n",
       "      <td>37</td>\n",
       "      <td>4</td>\n",
       "      <td>3</td>\n",
       "      <td>2</td>\n",
       "      <td>-1</td>\n",
       "      <td>...</td>\n",
       "      <td>20878</td>\n",
       "      <td>20582</td>\n",
       "      <td>19357</td>\n",
       "      <td>0</td>\n",
       "      <td>0</td>\n",
       "      <td>22000</td>\n",
       "      <td>4200</td>\n",
       "      <td>2000</td>\n",
       "      <td>3100</td>\n",
       "      <td>1</td>\n",
       "    </tr>\n",
       "    <tr>\n",
       "      <td>29998</td>\n",
       "      <td>29999</td>\n",
       "      <td>80000</td>\n",
       "      <td>1</td>\n",
       "      <td>3</td>\n",
       "      <td>1</td>\n",
       "      <td>41</td>\n",
       "      <td>1</td>\n",
       "      <td>-1</td>\n",
       "      <td>0</td>\n",
       "      <td>0</td>\n",
       "      <td>...</td>\n",
       "      <td>52774</td>\n",
       "      <td>11855</td>\n",
       "      <td>48944</td>\n",
       "      <td>85900</td>\n",
       "      <td>3409</td>\n",
       "      <td>1178</td>\n",
       "      <td>1926</td>\n",
       "      <td>52964</td>\n",
       "      <td>1804</td>\n",
       "      <td>1</td>\n",
       "    </tr>\n",
       "    <tr>\n",
       "      <td>29999</td>\n",
       "      <td>30000</td>\n",
       "      <td>50000</td>\n",
       "      <td>1</td>\n",
       "      <td>2</td>\n",
       "      <td>1</td>\n",
       "      <td>46</td>\n",
       "      <td>0</td>\n",
       "      <td>0</td>\n",
       "      <td>0</td>\n",
       "      <td>0</td>\n",
       "      <td>...</td>\n",
       "      <td>36535</td>\n",
       "      <td>32428</td>\n",
       "      <td>15313</td>\n",
       "      <td>2078</td>\n",
       "      <td>1800</td>\n",
       "      <td>1430</td>\n",
       "      <td>1000</td>\n",
       "      <td>1000</td>\n",
       "      <td>1000</td>\n",
       "      <td>1</td>\n",
       "    </tr>\n",
       "  </tbody>\n",
       "</table>\n",
       "<p>5 rows × 25 columns</p>\n",
       "</div>"
      ],
      "text/plain": [
       "          ID  LIMIT_BAL  SEX  EDUCATION  MARRIAGE  AGE  PAY_0  PAY_2  PAY_3  \\\n",
       "29995  29996     220000    1          3         1   39      0      0      0   \n",
       "29996  29997     150000    1          3         2   43     -1     -1     -1   \n",
       "29997  29998      30000    1          2         2   37      4      3      2   \n",
       "29998  29999      80000    1          3         1   41      1     -1      0   \n",
       "29999  30000      50000    1          2         1   46      0      0      0   \n",
       "\n",
       "       PAY_4  ...  BILL_AMT4  BILL_AMT5  BILL_AMT6  PAY_AMT1  PAY_AMT2  \\\n",
       "29995      0  ...      88004      31237      15980      8500     20000   \n",
       "29996     -1  ...       8979       5190          0      1837      3526   \n",
       "29997     -1  ...      20878      20582      19357         0         0   \n",
       "29998      0  ...      52774      11855      48944     85900      3409   \n",
       "29999      0  ...      36535      32428      15313      2078      1800   \n",
       "\n",
       "       PAY_AMT3  PAY_AMT4  PAY_AMT5  PAY_AMT6  default payment next month  \n",
       "29995      5003      3047      5000      1000                           0  \n",
       "29996      8998       129         0         0                           0  \n",
       "29997     22000      4200      2000      3100                           1  \n",
       "29998      1178      1926     52964      1804                           1  \n",
       "29999      1430      1000      1000      1000                           1  \n",
       "\n",
       "[5 rows x 25 columns]"
      ]
     },
     "execution_count": 6,
     "metadata": {},
     "output_type": "execute_result"
    }
   ],
   "source": [
    "## view data\n",
    "credit.tail()"
   ]
  },
  {
   "cell_type": "code",
   "execution_count": 5,
   "metadata": {},
   "outputs": [
    {
     "name": "stdout",
     "output_type": "stream",
     "text": [
      "<class 'pandas.core.frame.DataFrame'>\n",
      "RangeIndex: 30000 entries, 0 to 29999\n",
      "Data columns (total 25 columns):\n",
      "ID                            30000 non-null int64\n",
      "LIMIT_BAL                     30000 non-null int64\n",
      "SEX                           30000 non-null int64\n",
      "EDUCATION                     30000 non-null int64\n",
      "MARRIAGE                      30000 non-null int64\n",
      "AGE                           30000 non-null int64\n",
      "PAY_0                         30000 non-null int64\n",
      "PAY_2                         30000 non-null int64\n",
      "PAY_3                         30000 non-null int64\n",
      "PAY_4                         30000 non-null int64\n",
      "PAY_5                         30000 non-null int64\n",
      "PAY_6                         30000 non-null int64\n",
      "BILL_AMT1                     30000 non-null int64\n",
      "BILL_AMT2                     30000 non-null int64\n",
      "BILL_AMT3                     30000 non-null int64\n",
      "BILL_AMT4                     30000 non-null int64\n",
      "BILL_AMT5                     30000 non-null int64\n",
      "BILL_AMT6                     30000 non-null int64\n",
      "PAY_AMT1                      30000 non-null int64\n",
      "PAY_AMT2                      30000 non-null int64\n",
      "PAY_AMT3                      30000 non-null int64\n",
      "PAY_AMT4                      30000 non-null int64\n",
      "PAY_AMT5                      30000 non-null int64\n",
      "PAY_AMT6                      30000 non-null int64\n",
      "default payment next month    30000 non-null int64\n",
      "dtypes: int64(25)\n",
      "memory usage: 5.7 MB\n"
     ]
    }
   ],
   "source": [
    "## check data types\n",
    "credit.info()"
   ]
  },
  {
   "cell_type": "code",
   "execution_count": 7,
   "metadata": {},
   "outputs": [
    {
     "data": {
      "text/plain": [
       "Index(['ID', 'LIMIT_BAL', 'SEX', 'EDUCATION', 'MARRIAGE', 'AGE', 'PAY_0',\n",
       "       'PAY_2', 'PAY_3', 'PAY_4', 'PAY_5', 'PAY_6', 'BILL_AMT1', 'BILL_AMT2',\n",
       "       'BILL_AMT3', 'BILL_AMT4', 'BILL_AMT5', 'BILL_AMT6', 'PAY_AMT1',\n",
       "       'PAY_AMT2', 'PAY_AMT3', 'PAY_AMT4', 'PAY_AMT5', 'PAY_AMT6',\n",
       "       'default payment next month'],\n",
       "      dtype='object')"
      ]
     },
     "execution_count": 7,
     "metadata": {},
     "output_type": "execute_result"
    }
   ],
   "source": [
    "## view column names\n",
    "credit.columns"
   ]
  },
  {
   "cell_type": "code",
   "execution_count": 8,
   "metadata": {},
   "outputs": [],
   "source": [
    "## drop ID column \n",
    "credit.drop('ID',axis=1,inplace=True)"
   ]
  },
  {
   "cell_type": "code",
   "execution_count": 9,
   "metadata": {},
   "outputs": [
    {
     "data": {
      "text/plain": [
       "LIMIT_BAL                     0\n",
       "SEX                           0\n",
       "EDUCATION                     0\n",
       "MARRIAGE                      0\n",
       "AGE                           0\n",
       "PAY_0                         0\n",
       "PAY_2                         0\n",
       "PAY_3                         0\n",
       "PAY_4                         0\n",
       "PAY_5                         0\n",
       "PAY_6                         0\n",
       "BILL_AMT1                     0\n",
       "BILL_AMT2                     0\n",
       "BILL_AMT3                     0\n",
       "BILL_AMT4                     0\n",
       "BILL_AMT5                     0\n",
       "BILL_AMT6                     0\n",
       "PAY_AMT1                      0\n",
       "PAY_AMT2                      0\n",
       "PAY_AMT3                      0\n",
       "PAY_AMT4                      0\n",
       "PAY_AMT5                      0\n",
       "PAY_AMT6                      0\n",
       "default payment next month    0\n",
       "dtype: int64"
      ]
     },
     "execution_count": 9,
     "metadata": {},
     "output_type": "execute_result"
    }
   ],
   "source": [
    "## check null values\n",
    "credit.isnull().sum()"
   ]
  },
  {
   "cell_type": "code",
   "execution_count": 23,
   "metadata": {},
   "outputs": [],
   "source": [
    "## rename default payment next month column\n",
    "credit = credit.rename(columns={'default payment next month': 'def_pay'})"
   ]
  },
  {
   "cell_type": "code",
   "execution_count": 11,
   "metadata": {},
   "outputs": [
    {
     "data": {
      "text/plain": [
       "count    30000.000000\n",
       "mean        35.485500\n",
       "std          9.217904\n",
       "min         21.000000\n",
       "25%         28.000000\n",
       "50%         34.000000\n",
       "75%         41.000000\n",
       "max         79.000000\n",
       "Name: AGE, dtype: float64"
      ]
     },
     "execution_count": 11,
     "metadata": {},
     "output_type": "execute_result"
    }
   ],
   "source": [
    "credit.AGE.describe()"
   ]
  },
  {
   "cell_type": "code",
   "execution_count": 15,
   "metadata": {},
   "outputs": [
    {
     "data": {
      "text/plain": [
       "count      30000.000000\n",
       "mean      167484.322667\n",
       "std       129747.661567\n",
       "min        10000.000000\n",
       "25%        50000.000000\n",
       "50%       140000.000000\n",
       "75%       240000.000000\n",
       "max      1000000.000000\n",
       "Name: LIMIT_BAL, dtype: float64"
      ]
     },
     "execution_count": 15,
     "metadata": {},
     "output_type": "execute_result"
    }
   ],
   "source": [
    "credit.LIMIT_BAL.describe()"
   ]
  },
  {
   "cell_type": "code",
   "execution_count": 13,
   "metadata": {},
   "outputs": [
    {
     "data": {
      "text/plain": [
       "count    30000.000000\n",
       "mean         1.853133\n",
       "std          0.790349\n",
       "min          0.000000\n",
       "25%          1.000000\n",
       "50%          2.000000\n",
       "75%          2.000000\n",
       "max          6.000000\n",
       "Name: EDUCATION, dtype: float64"
      ]
     },
     "execution_count": 13,
     "metadata": {},
     "output_type": "execute_result"
    }
   ],
   "source": [
    "credit.EDUCATION.describe()"
   ]
  },
  {
   "cell_type": "code",
   "execution_count": 14,
   "metadata": {},
   "outputs": [
    {
     "data": {
      "text/plain": [
       "SEX\n",
       "1    11888\n",
       "2    18112\n",
       "Name: SEX, dtype: int64"
      ]
     },
     "execution_count": 14,
     "metadata": {},
     "output_type": "execute_result"
    }
   ],
   "source": [
    "# number of males v. females\n",
    "credit.groupby('SEX')['SEX'].count()"
   ]
  },
  {
   "cell_type": "code",
   "execution_count": 16,
   "metadata": {},
   "outputs": [
    {
     "name": "stderr",
     "output_type": "stream",
     "text": [
      "/opt/anaconda3/lib/python3.7/site-packages/seaborn/categorical.py:3666: UserWarning: The `factorplot` function has been renamed to `catplot`. The original name will be removed in a future release. Please update your code. Note that the default `kind` in `factorplot` (`'point'`) has changed `'strip'` in `catplot`.\n",
      "  warnings.warn(msg)\n"
     ]
    },
    {
     "data": {
      "text/plain": [
       "<seaborn.axisgrid.FacetGrid at 0x1a1ba02b50>"
      ]
     },
     "execution_count": 16,
     "metadata": {},
     "output_type": "execute_result"
    },
    {
     "data": {
      "image/png": "[encoded data removed]",
      "text/plain": [
       "<Figure size 540x360 with 1 Axes>"
      ]
     },
     "metadata": {
      "needs_background": "light"
     },
     "output_type": "display_data"
    }
   ],
   "source": [
    "#instead of a group by, use seaborn to plot the count of males v females\n",
    "fg = sns.factorplot('SEX', data=credit, kind='count', aspect=1.5)\n",
    "fg.set_xlabels('Sex')"
   ]
  },
  {
   "cell_type": "code",
   "execution_count": 17,
   "metadata": {},
   "outputs": [
    {
     "name": "stdout",
     "output_type": "stream",
     "text": [
      "\n"
     ]
    },
    {
     "data": {
      "image/png": "[encoded data removed]",
      "text/plain": [
       "<Figure size 432x288 with 1 Axes>"
      ]
     },
     "metadata": {
      "needs_background": "light"
     },
     "output_type": "display_data"
    }
   ],
   "source": [
    "credit.AGE.plot.hist()\n",
    "print()"
   ]
  },
  {
   "cell_type": "code",
   "execution_count": 18,
   "metadata": {},
   "outputs": [
    {
     "name": "stdout",
     "output_type": "stream",
     "text": [
      "\n"
     ]
    },
    {
     "data": {
      "image/png": "[encoded data removed]",
      "text/plain": [
       "<Figure size 432x288 with 1 Axes>"
      ]
     },
     "metadata": {
      "needs_background": "light"
     },
     "output_type": "display_data"
    }
   ],
   "source": [
    "credit.EDUCATION.plot.hist()\n",
    "print()"
   ]
  },
  {
   "cell_type": "code",
   "execution_count": 19,
   "metadata": {},
   "outputs": [
    {
     "name": "stdout",
     "output_type": "stream",
     "text": [
      "\n"
     ]
    },
    {
     "data": {
      "image/png": "[encoded data removed]",
      "text/plain": [
       "<Figure size 432x288 with 1 Axes>"
      ]
     },
     "metadata": {
      "needs_background": "light"
     },
     "output_type": "display_data"
    }
   ],
   "source": [
    "credit.MARRIAGE.plot.hist()\n",
    "print()"
   ]
  },
  {
   "cell_type": "code",
   "execution_count": 20,
   "metadata": {},
   "outputs": [
    {
     "data": {
      "text/plain": [
       "EDUCATION\n",
       "0       14\n",
       "1    10585\n",
       "2    14030\n",
       "3     4917\n",
       "4      123\n",
       "5      280\n",
       "6       51\n",
       "Name: EDUCATION, dtype: int64"
      ]
     },
     "execution_count": 20,
     "metadata": {},
     "output_type": "execute_result"
    }
   ],
   "source": [
    "## education counts\n",
    "credit.groupby('EDUCATION')['EDUCATION'].count()"
   ]
  },
  {
   "cell_type": "code",
   "execution_count": 21,
   "metadata": {},
   "outputs": [
    {
     "data": {
      "text/plain": [
       "MARRIAGE\n",
       "0       54\n",
       "1    13659\n",
       "2    15964\n",
       "3      323\n",
       "Name: MARRIAGE, dtype: int64"
      ]
     },
     "execution_count": 21,
     "metadata": {},
     "output_type": "execute_result"
    }
   ],
   "source": [
    "## marriage counts\n",
    "credit.groupby('MARRIAGE')['MARRIAGE'].count()"
   ]
  },
  {
   "cell_type": "code",
   "execution_count": 24,
   "metadata": {},
   "outputs": [
    {
     "data": {
      "text/plain": [
       "def_pay\n",
       "0    23364\n",
       "1     6636\n",
       "Name: def_pay, dtype: int64"
      ]
     },
     "execution_count": 24,
     "metadata": {},
     "output_type": "execute_result"
    }
   ],
   "source": [
    "# default payment counts\n",
    "credit.groupby('def_pay')['def_pay'].count()"
   ]
  },
  {
   "cell_type": "code",
   "execution_count": 25,
   "metadata": {},
   "outputs": [
    {
     "data": {
      "text/plain": [
       "{'SEX': {1: 'Male', 2: 'Female'}}"
      ]
     },
     "execution_count": 25,
     "metadata": {},
     "output_type": "execute_result"
    }
   ],
   "source": [
    "## playing with dictionaries\n",
    "sexdict = {'SEX': {1:'Male', 2:'Female'}}\n",
    "sexdict"
   ]
  },
  {
   "cell_type": "code",
   "execution_count": 27,
   "metadata": {},
   "outputs": [],
   "source": [
    "credit.replace(sexdict,inplace=True)"
   ]
  },
  {
   "cell_type": "code",
   "execution_count": 28,
   "metadata": {},
   "outputs": [
    {
     "data": {
      "text/plain": [
       "SEX\n",
       "Female    18112\n",
       "Male      11888\n",
       "Name: SEX, dtype: int64"
      ]
     },
     "execution_count": 28,
     "metadata": {},
     "output_type": "execute_result"
    }
   ],
   "source": [
    "credit.groupby('SEX')['SEX'].count()"
   ]
  },
  {
   "cell_type": "code",
   "execution_count": 29,
   "metadata": {},
   "outputs": [
    {
     "data": {
      "text/plain": [
       "{'MARRIAGE': {0: 'Other', 1: 'Married', 2: 'Single', 3: 'Divorced'}}"
      ]
     },
     "execution_count": 29,
     "metadata": {},
     "output_type": "execute_result"
    }
   ],
   "source": [
    "## marriage dictionary\n",
    "marriagedict = {'MARRIAGE': {0: 'Other', 1: 'Married', 2: 'Single', 3: 'Divorced'}}\n",
    "marriagedict"
   ]
  },
  {
   "cell_type": "code",
   "execution_count": 30,
   "metadata": {},
   "outputs": [
    {
     "data": {
      "text/plain": [
       "MARRIAGE\n",
       "Divorced      323\n",
       "Married     13659\n",
       "Other          54\n",
       "Single      15964\n",
       "Name: MARRIAGE, dtype: int64"
      ]
     },
     "execution_count": 30,
     "metadata": {},
     "output_type": "execute_result"
    }
   ],
   "source": [
    "credit.replace(marriagedict,inplace=True)\n",
    "credit.groupby('MARRIAGE')['MARRIAGE'].count()"
   ]
  },
  {
   "cell_type": "code",
   "execution_count": 31,
   "metadata": {},
   "outputs": [
    {
     "data": {
      "text/plain": [
       "{'EDUCATION': {0: 'Other',\n",
       "  1: 'Graduate School',\n",
       "  2: 'University',\n",
       "  3: 'High School',\n",
       "  4: 'Other',\n",
       "  5: 'Other',\n",
       "  6: 'Other'}}"
      ]
     },
     "execution_count": 31,
     "metadata": {},
     "output_type": "execute_result"
    }
   ],
   "source": [
    "## education dictionary\n",
    "educationdict = {'EDUCATION': {0: 'Other', 1: 'Graduate School', 2: 'University', 3: 'High School', 4: 'Other', 5: 'Other', 6: 'Other'}}\n",
    "educationdict"
   ]
  },
  {
   "cell_type": "code",
   "execution_count": 32,
   "metadata": {},
   "outputs": [
    {
     "data": {
      "text/plain": [
       "EDUCATION\n",
       "Graduate School    10585\n",
       "High School         4917\n",
       "Other                468\n",
       "University         14030\n",
       "Name: EDUCATION, dtype: int64"
      ]
     },
     "execution_count": 32,
     "metadata": {},
     "output_type": "execute_result"
    }
   ],
   "source": [
    "credit.replace(educationdict,inplace=True)\n",
    "credit.groupby('EDUCATION')['EDUCATION'].count()"
   ]
  },
  {
   "cell_type": "code",
   "execution_count": 33,
   "metadata": {},
   "outputs": [],
   "source": [
    "## discretize age\n",
    "## discretize age\n",
    "credit['age_by_decade'] = pd.cut(x=credit['AGE'], bins=[20, 29, 39, 49, 59, 69, 79], labels=['20s', '30s', '40s', '50s', '60s', '70s'])"
   ]
  },
  {
   "cell_type": "code",
   "execution_count": 34,
   "metadata": {},
   "outputs": [
    {
     "name": "stdout",
     "output_type": "stream",
     "text": [
      "0        20s\n",
      "1        20s\n",
      "2        30s\n",
      "3        30s\n",
      "4        50s\n",
      "        ... \n",
      "29995    30s\n",
      "29996    40s\n",
      "29997    30s\n",
      "29998    40s\n",
      "29999    40s\n",
      "Name: age_by_decade, Length: 30000, dtype: category\n",
      "Categories (6, object): [20s < 30s < 40s < 50s < 60s < 70s]\n"
     ]
    }
   ],
   "source": [
    "print(credit.age_by_decade)"
   ]
  },
  {
   "cell_type": "code",
   "execution_count": 35,
   "metadata": {},
   "outputs": [
    {
     "data": {
      "text/plain": [
       "age_by_decade\n",
       "20s     9618\n",
       "30s    11238\n",
       "40s     6464\n",
       "50s     2341\n",
       "60s      314\n",
       "70s       25\n",
       "Name: age_by_decade, dtype: int64"
      ]
     },
     "execution_count": 35,
     "metadata": {},
     "output_type": "execute_result"
    }
   ],
   "source": [
    "## number in age by decade\n",
    "credit.groupby('age_by_decade')['age_by_decade'].count()"
   ]
  },
  {
   "cell_type": "code",
   "execution_count": 37,
   "metadata": {},
   "outputs": [
    {
     "data": {
      "text/plain": [
       "0.2212"
      ]
     },
     "execution_count": 37,
     "metadata": {},
     "output_type": "execute_result"
    }
   ],
   "source": [
    "credit.def_pay.sum()/credit.def_pay.count()"
   ]
  },
  {
   "cell_type": "code",
   "execution_count": 38,
   "metadata": {},
   "outputs": [
    {
     "data": {
      "text/plain": [
       "def_pay  SEX     EDUCATION        MARRIAGE\n",
       "0        Female  Graduate School  Divorced      17\n",
       "                                  Married     1653\n",
       "                                  Other          3\n",
       "                                  Single      3428\n",
       "                 High School      Divorced      51\n",
       "                                  Married     1362\n",
       "                                  Other         30\n",
       "                                  Single       792\n",
       "                 Other            Divorced       6\n",
       "                                  Married      145\n",
       "                                  Single       128\n",
       "                 University       Divorced      74\n",
       "                                  Married     3449\n",
       "                                  Other          4\n",
       "                                  Single      3207\n",
       "         Male    Graduate School  Divorced      20\n",
       "                                  Married     1300\n",
       "                                  Other          1\n",
       "                                  Single      2127\n",
       "                 High School      Divorced      25\n",
       "                                  Married      745\n",
       "                                  Other         10\n",
       "                                  Single       665\n",
       "                 Other            Divorced       2\n",
       "                                  Married       72\n",
       "                                  Single        82\n",
       "                 University       Divorced      44\n",
       "                                  Married     1727\n",
       "                                  Other          1\n",
       "                                  Single      2194\n",
       "1        Female  Graduate School  Divorced       3\n",
       "                                  Married      379\n",
       "                                  Single       748\n",
       "                 High School      Divorced      16\n",
       "                                  Married      451\n",
       "                                  Other          2\n",
       "                                  Single       223\n",
       "                 Other            Married        7\n",
       "                                  Single        12\n",
       "                 University       Divorced      25\n",
       "                                  Married     1023\n",
       "                                  Other          1\n",
       "                                  Single       873\n",
       "         Male    Graduate School  Divorced      10\n",
       "                                  Married      390\n",
       "                                  Single       506\n",
       "                 High School      Divorced      11\n",
       "                                  Married      303\n",
       "                                  Other          2\n",
       "                                  Single       229\n",
       "                 Other            Married       10\n",
       "                                  Single         4\n",
       "                 University       Divorced      19\n",
       "                                  Married      643\n",
       "                                  Single       746\n",
       "dtype: int64"
      ]
     },
     "execution_count": 38,
     "metadata": {},
     "output_type": "execute_result"
    }
   ],
   "source": [
    "credit.groupby(['def_pay','SEX','EDUCATION','MARRIAGE']).size()"
   ]
  },
  {
   "cell_type": "code",
   "execution_count": 39,
   "metadata": {},
   "outputs": [
    {
     "data": {
      "text/plain": [
       "def_pay  SEX   \n",
       "0        Female    14349\n",
       "         Male       9015\n",
       "1        Female     3763\n",
       "         Male       2873\n",
       "dtype: int64"
      ]
     },
     "execution_count": 39,
     "metadata": {},
     "output_type": "execute_result"
    }
   ],
   "source": [
    "## this l ooks like women are more likely to default than men, but the dataset overall includes more women \n",
    "\n",
    "credit.groupby(['def_pay','SEX']).size()"
   ]
  },
  {
   "cell_type": "code",
   "execution_count": 40,
   "metadata": {},
   "outputs": [
    {
     "data": {
      "text/plain": [
       "def_pay  age_by_decade\n",
       "0        20s              7421\n",
       "         30s              8962\n",
       "         40s              4979\n",
       "         50s              1759\n",
       "         60s               225\n",
       "         70s                18\n",
       "1        20s              2197\n",
       "         30s              2276\n",
       "         40s              1485\n",
       "         50s               582\n",
       "         60s                89\n",
       "         70s                 7\n",
       "dtype: int64"
      ]
     },
     "execution_count": 40,
     "metadata": {},
     "output_type": "execute_result"
    }
   ],
   "source": [
    "credit.groupby(['def_pay','age_by_decade']).size()"
   ]
  },
  {
   "cell_type": "code",
   "execution_count": 41,
   "metadata": {},
   "outputs": [
    {
     "data": {
      "text/plain": [
       "def_pay  MARRIAGE\n",
       "0        Divorced      239\n",
       "         Married     10453\n",
       "         Other          49\n",
       "         Single      12623\n",
       "1        Divorced       84\n",
       "         Married      3206\n",
       "         Other           5\n",
       "         Single       3341\n",
       "dtype: int64"
      ]
     },
     "execution_count": 41,
     "metadata": {},
     "output_type": "execute_result"
    }
   ],
   "source": [
    "credit.groupby(['def_pay','MARRIAGE']).size()"
   ]
  },
  {
   "cell_type": "code",
   "execution_count": 42,
   "metadata": {},
   "outputs": [
    {
     "data": {
      "text/plain": [
       "count      30000.000000\n",
       "mean      167484.322667\n",
       "std       129747.661567\n",
       "min        10000.000000\n",
       "25%        50000.000000\n",
       "50%       140000.000000\n",
       "75%       240000.000000\n",
       "max      1000000.000000\n",
       "Name: LIMIT_BAL, dtype: float64"
      ]
     },
     "execution_count": 42,
     "metadata": {},
     "output_type": "execute_result"
    }
   ],
   "source": [
    "credit.LIMIT_BAL.describe()"
   ]
  },
  {
   "cell_type": "code",
   "execution_count": 53,
   "metadata": {},
   "outputs": [],
   "source": [
    "## discretize limit balance\n",
    "credit['quartile_limit_balance'] = pd.qcut(x=credit['LIMIT_BAL'], q=4, labels=['q1', 'q2', 'q3', 'q4'])"
   ]
  },
  {
   "cell_type": "code",
   "execution_count": 54,
   "metadata": {},
   "outputs": [
    {
     "name": "stdout",
     "output_type": "stream",
     "text": [
      "0        q1\n",
      "1        q2\n",
      "2        q2\n",
      "3        q1\n",
      "4        q1\n",
      "         ..\n",
      "29995    q3\n",
      "29996    q3\n",
      "29997    q1\n",
      "29998    q2\n",
      "29999    q1\n",
      "Name: quartile_limit_balance, Length: 30000, dtype: category\n",
      "Categories (4, object): [q1 < q2 < q3 < q4]\n"
     ]
    }
   ],
   "source": [
    "print(credit.quartile_limit_balance)"
   ]
  },
  {
   "cell_type": "code",
   "execution_count": 57,
   "metadata": {},
   "outputs": [
    {
     "data": {
      "text/plain": [
       "0         (9999.999, 50000.0]\n",
       "1         (50000.0, 140000.0]\n",
       "2         (50000.0, 140000.0]\n",
       "3         (9999.999, 50000.0]\n",
       "4         (9999.999, 50000.0]\n",
       "                 ...         \n",
       "29995    (140000.0, 240000.0]\n",
       "29996    (140000.0, 240000.0]\n",
       "29997     (9999.999, 50000.0]\n",
       "29998     (50000.0, 140000.0]\n",
       "29999     (9999.999, 50000.0]\n",
       "Name: LIMIT_BAL, Length: 30000, dtype: category\n",
       "Categories (4, interval[float64]): [(9999.999, 50000.0] < (50000.0, 140000.0] < (140000.0, 240000.0] < (240000.0, 1000000.0]]"
      ]
     },
     "execution_count": 57,
     "metadata": {},
     "output_type": "execute_result"
    }
   ],
   "source": [
    "pd.qcut(x=credit['LIMIT_BAL'], q=4)"
   ]
  },
  {
   "cell_type": "code",
   "execution_count": 58,
   "metadata": {
    "scrolled": true
   },
   "outputs": [
    {
     "data": {
      "text/plain": [
       "q1    7676\n",
       "q3    7643\n",
       "q2    7614\n",
       "q4    7067\n",
       "Name: quartile_limit_balance, dtype: int64"
      ]
     },
     "execution_count": 58,
     "metadata": {},
     "output_type": "execute_result"
    }
   ],
   "source": [
    "credit['quartile_limit_balance'].value_counts()"
   ]
  },
  {
   "cell_type": "code",
   "execution_count": 55,
   "metadata": {},
   "outputs": [
    {
     "data": {
      "text/plain": [
       "quartile_limit_balance\n",
       "q1    7676\n",
       "q2    7614\n",
       "q3    7643\n",
       "q4    7067\n",
       "Name: quartile_limit_balance, dtype: int64"
      ]
     },
     "execution_count": 55,
     "metadata": {},
     "output_type": "execute_result"
    }
   ],
   "source": [
    "## number in limit balance quartiles\n",
    "credit.groupby('quartile_limit_balance')['quartile_limit_balance'].count()"
   ]
  },
  {
   "cell_type": "code",
   "execution_count": 46,
   "metadata": {},
   "outputs": [
    {
     "data": {
      "text/plain": [
       "def_pay  quartile_limit_balance\n",
       "0        (9999.999, 50000.0]       5236\n",
       "         (50000.0, 140000.0]       5732\n",
       "         (140000.0, 240000.0]      6317\n",
       "         (240000.0, 1000000.0]     6079\n",
       "1        (9999.999, 50000.0]       2440\n",
       "         (50000.0, 140000.0]       1882\n",
       "         (140000.0, 240000.0]      1326\n",
       "         (240000.0, 1000000.0]      988\n",
       "dtype: int64"
      ]
     },
     "execution_count": 46,
     "metadata": {},
     "output_type": "execute_result"
    }
   ],
   "source": [
    "credit.groupby(['def_pay','quartile_limit_balance']).size()"
   ]
  },
  {
   "cell_type": "code",
   "execution_count": 47,
   "metadata": {},
   "outputs": [
    {
     "data": {
      "text/plain": [
       "0.20776280918727916"
      ]
     },
     "execution_count": 47,
     "metadata": {},
     "output_type": "execute_result"
    }
   ],
   "source": [
    "## % women defaulted\n",
    "credit.groupby(['def_pay','SEX']).size()[1]['Female'] / credit.groupby(['SEX']).size()['Female']"
   ]
  },
  {
   "cell_type": "code",
   "execution_count": 48,
   "metadata": {},
   "outputs": [
    {
     "data": {
      "text/plain": [
       "0.2416722745625841"
      ]
     },
     "execution_count": 48,
     "metadata": {},
     "output_type": "execute_result"
    }
   ],
   "source": [
    "## % men defaulted \n",
    "credit.groupby(['def_pay','SEX']).size()[1]['Male'] / credit.groupby(['SEX']).size()['Male']"
   ]
  },
  {
   "cell_type": "code",
   "execution_count": 50,
   "metadata": {},
   "outputs": [
    {
     "name": "stdout",
     "output_type": "stream",
     "text": [
      "Percentage in default for 20s is 0.22842586816385943\n",
      "Percentage in default for 30s is 0.20252714006050898\n",
      "Percentage in default for 50s is 0.24861170439982913\n",
      "Percentage in default for 40s is 0.2297339108910891\n",
      "Percentage in default for 60s is 0.28343949044585987\n",
      "Percentage in default for 70s is 0.28\n"
     ]
    }
   ],
   "source": [
    "## percentage in default for age by decade\n",
    "## credit holders in their 60s & 70s are more likely to default, but their numbers are also lower than other age groups\n",
    "\n",
    "decades = credit['age_by_decade'].unique()\n",
    "for decade in decades:\n",
    "    percentage_in_default = credit.groupby(['def_pay','age_by_decade']).size()[1][decade] / credit.groupby(['age_by_decade']).size()[decade]\n",
    "    print(f'Percentage in default for {decade} is {percentage_in_default}')"
   ]
  },
  {
   "cell_type": "code",
   "execution_count": 51,
   "metadata": {},
   "outputs": [
    {
     "name": "stdout",
     "output_type": "stream",
     "text": [
      "Percentage in default for University is 0.23734853884533144\n",
      "Percentage in default for Graduate School is 0.19234766178554558\n",
      "Percentage in default for High School is 0.2515761643278422\n",
      "Percentage in default for Other is 0.07051282051282051\n"
     ]
    }
   ],
   "source": [
    "## percentage in defult for education levels\n",
    "## high school and university grads are more likely to default \n",
    "\n",
    "education_levels = credit['EDUCATION'].unique()\n",
    "for education_level in education_levels:\n",
    "    try:\n",
    "        percentage_in_default = credit.groupby(['def_pay','EDUCATION']).size()[1][education_level] / credit.groupby(['EDUCATION']).size()[education_level]\n",
    "    except KeyError:\n",
    "        percentage_in_default = 0\n",
    "    print(f'Percentage in default for {education_level} is {percentage_in_default}')"
   ]
  },
  {
   "cell_type": "code",
   "execution_count": 59,
   "metadata": {},
   "outputs": [
    {
     "name": "stdout",
     "output_type": "stream",
     "text": [
      "SEX\n",
      "Percentage in default for Female is 0.20776280918727916\n",
      "Percentage in default for Male is 0.2416722745625841\n",
      "MARRIAGE\n",
      "Percentage in default for Married is 0.23471703638626545\n",
      "Percentage in default for Single is 0.20928338762214985\n",
      "Percentage in default for Divorced is 0.26006191950464397\n",
      "Percentage in default for Other is 0.09259259259259259\n",
      "EDUCATION\n",
      "Percentage in default for University is 0.23734853884533144\n",
      "Percentage in default for Graduate School is 0.19234766178554558\n",
      "Percentage in default for High School is 0.2515761643278422\n",
      "Percentage in default for Other is 0.07051282051282051\n",
      "quartile_limit_balance\n",
      "Percentage in default for q1 is 0.31787389265242316\n",
      "Percentage in default for q2 is 0.24717625426845286\n",
      "Percentage in default for q4 is 0.13980472619216075\n",
      "Percentage in default for q3 is 0.1734920842601073\n",
      "age_by_decade\n",
      "Percentage in default for 20s is 0.22842586816385943\n",
      "Percentage in default for 30s is 0.20252714006050898\n",
      "Percentage in default for 50s is 0.24861170439982913\n",
      "Percentage in default for 40s is 0.2297339108910891\n",
      "Percentage in default for 60s is 0.28343949044585987\n",
      "Percentage in default for 70s is 0.28\n"
     ]
    }
   ],
   "source": [
    "## percentage in deafult for multiple attributes \n",
    "\n",
    "column_names = ['SEX', 'MARRIAGE', 'EDUCATION', 'quartile_limit_balance', 'age_by_decade']\n",
    "for column_name in column_names:\n",
    "    groups = credit[column_name].unique()\n",
    "    print(column_name)\n",
    "    for group in groups:\n",
    "        try:\n",
    "            percentage_in_default = credit.groupby(['def_pay',column_name]).size()[1][group] / credit.groupby([column_name]).size()[group]\n",
    "        except KeyError:\n",
    "            percentage_in_default = 0\n",
    "        print(f'Percentage in default for {group} is {percentage_in_default}')"
   ]
  },
  {
   "cell_type": "code",
   "execution_count": 60,
   "metadata": {},
   "outputs": [
    {
     "name": "stdout",
     "output_type": "stream",
     "text": [
      "Index(['LIMIT_BAL', 'SEX', 'EDUCATION', 'MARRIAGE', 'AGE', 'PAY_0', 'PAY_2',\n",
      "       'PAY_3', 'PAY_4', 'PAY_5', 'PAY_6', 'BILL_AMT1', 'BILL_AMT2',\n",
      "       'BILL_AMT3', 'BILL_AMT4', 'BILL_AMT5', 'BILL_AMT6', 'PAY_AMT1',\n",
      "       'PAY_AMT2', 'PAY_AMT3', 'PAY_AMT4', 'PAY_AMT5', 'PAY_AMT6', 'def_pay',\n",
      "       'age_by_decade', 'quartile_limit_balance'],\n",
      "      dtype='object')\n"
     ]
    }
   ],
   "source": [
    "header = credit.dtypes.index\n",
    "print(header)"
   ]
  },
  {
   "cell_type": "code",
   "execution_count": 61,
   "metadata": {},
   "outputs": [
    {
     "data": {
      "image/png": "[encoded data removed]",
      "text/plain": [
       "<Figure size 432x288 with 1 Axes>"
      ]
     },
     "metadata": {
      "needs_background": "light"
     },
     "output_type": "display_data"
    }
   ],
   "source": [
    "## histogram for limit balance\n",
    "plt.hist(credit['LIMIT_BAL'])\n",
    "plt.show()"
   ]
  },
  {
   "cell_type": "code",
   "execution_count": 62,
   "metadata": {},
   "outputs": [
    {
     "data": {
      "text/plain": [
       "(array([2.3283e+04, 6.5110e+03, 2.0000e+02, 6.0000e+00]),\n",
       " array([  10000.,  257500.,  505000.,  752500., 1000000.]),\n",
       " <a list of 4 Patch objects>)"
      ]
     },
     "execution_count": 62,
     "metadata": {},
     "output_type": "execute_result"
    },
    {
     "data": {
      "image/png": "[encoded data removed]",
      "text/plain": [
       "<Figure size 432x288 with 1 Axes>"
      ]
     },
     "metadata": {
      "needs_background": "light"
     },
     "output_type": "display_data"
    }
   ],
   "source": [
    "## binned historgram for limit balance\n",
    "plt.hist(credit['LIMIT_BAL'], bins=4)"
   ]
  },
  {
   "cell_type": "code",
   "execution_count": 63,
   "metadata": {},
   "outputs": [
    {
     "data": {
      "image/png": "[encoded data removed]",
      "text/plain": [
       "<Figure size 432x288 with 1 Axes>"
      ]
     },
     "metadata": {
      "needs_background": "light"
     },
     "output_type": "display_data"
    }
   ],
   "source": [
    "## line plot for limit balance\n",
    "plt.plot(credit['LIMIT_BAL'])\n",
    "plt.show()"
   ]
  },
  {
   "cell_type": "code",
   "execution_count": 64,
   "metadata": {},
   "outputs": [],
   "source": [
    "## scatter plot for pay 0 and pay 2 - identify x & y axis\n",
    "x = credit['PAY_0']\n",
    "y = credit['PAY_2']"
   ]
  },
  {
   "cell_type": "code",
   "execution_count": 65,
   "metadata": {},
   "outputs": [
    {
     "data": {
      "image/png": "[encoded data removed]",
      "text/plain": [
       "<Figure size 432x288 with 1 Axes>"
      ]
     },
     "metadata": {
      "needs_background": "light"
     },
     "output_type": "display_data"
    }
   ],
   "source": [
    "## show scatter plot\n",
    "plt.scatter(x,y)\n",
    "plt.show()"
   ]
  },
  {
   "cell_type": "code",
   "execution_count": 66,
   "metadata": {},
   "outputs": [
    {
     "name": "stdout",
     "output_type": "stream",
     "text": [
      "Index(['LIMIT_BAL', 'SEX', 'EDUCATION', 'MARRIAGE', 'AGE', 'PAY_0', 'PAY_2',\n",
      "       'PAY_3', 'PAY_4', 'PAY_5', 'PAY_6', 'BILL_AMT1', 'BILL_AMT2',\n",
      "       'BILL_AMT3', 'BILL_AMT4', 'BILL_AMT5', 'BILL_AMT6', 'PAY_AMT1',\n",
      "       'PAY_AMT2', 'PAY_AMT3', 'PAY_AMT4', 'PAY_AMT5', 'PAY_AMT6', 'def_pay',\n",
      "       'age_by_decade', 'quartile_limit_balance'],\n",
      "      dtype='object')\n"
     ]
    }
   ],
   "source": [
    "## box plot - review column names\n",
    "header = credit.dtypes.index\n",
    "print(header)"
   ]
  },
  {
   "cell_type": "code",
   "execution_count": 67,
   "metadata": {},
   "outputs": [
    {
     "data": {
      "image/png": "[encoded data removed]",
      "text/plain": [
       "<Figure size 432x288 with 1 Axes>"
      ]
     },
     "metadata": {
      "needs_background": "light"
     },
     "output_type": "display_data"
    }
   ],
   "source": [
    "## box plot\n",
    "A = credit['BILL_AMT1']\n",
    "plt.boxplot(A,0,'gD')\n",
    "plt.show()"
   ]
  },
  {
   "cell_type": "code",
   "execution_count": 68,
   "metadata": {},
   "outputs": [
    {
     "name": "stdout",
     "output_type": "stream",
     "text": [
      "           LIMIT_BAL       AGE     PAY_0     PAY_2     PAY_3     PAY_4  \\\n",
      "LIMIT_BAL   1.000000  0.144713 -0.271214 -0.296382 -0.286123 -0.267460   \n",
      "AGE         0.144713  1.000000 -0.039447 -0.050148 -0.053048 -0.049722   \n",
      "PAY_0      -0.271214 -0.039447  1.000000  0.672164  0.574245  0.538841   \n",
      "PAY_2      -0.296382 -0.050148  0.672164  1.000000  0.766552  0.662067   \n",
      "PAY_3      -0.286123 -0.053048  0.574245  0.766552  1.000000  0.777359   \n",
      "PAY_4      -0.267460 -0.049722  0.538841  0.662067  0.777359  1.000000   \n",
      "PAY_5      -0.249411 -0.053826  0.509426  0.622780  0.686775  0.819835   \n",
      "PAY_6      -0.235195 -0.048773  0.474553  0.575501  0.632684  0.716449   \n",
      "BILL_AMT1   0.285430  0.056239  0.187068  0.234887  0.208473  0.202812   \n",
      "BILL_AMT2   0.278314  0.054283  0.189859  0.235257  0.237295  0.225816   \n",
      "BILL_AMT3   0.283236  0.053710  0.179785  0.224146  0.227494  0.244983   \n",
      "BILL_AMT4   0.293988  0.051353  0.179125  0.222237  0.227202  0.245917   \n",
      "BILL_AMT5   0.295562  0.049345  0.180635  0.221348  0.225145  0.242902   \n",
      "BILL_AMT6   0.290389  0.047613  0.176980  0.219403  0.222327  0.239154   \n",
      "PAY_AMT1    0.195236  0.026147 -0.079269 -0.080701  0.001295 -0.009362   \n",
      "PAY_AMT2    0.178408  0.021785 -0.070101 -0.058990 -0.066793 -0.001944   \n",
      "PAY_AMT3    0.210167  0.029247 -0.070561 -0.055901 -0.053311 -0.069235   \n",
      "PAY_AMT4    0.203242  0.021379 -0.064005 -0.046858 -0.046067 -0.043461   \n",
      "PAY_AMT5    0.217202  0.022850 -0.058190 -0.037093 -0.035863 -0.033590   \n",
      "PAY_AMT6    0.219595  0.019478 -0.058673 -0.036500 -0.035861 -0.026565   \n",
      "def_pay    -0.153520  0.013890  0.324794  0.263551  0.235253  0.216614   \n",
      "\n",
      "              PAY_5     PAY_6  BILL_AMT1  BILL_AMT2  ...  BILL_AMT4  \\\n",
      "LIMIT_BAL -0.249411 -0.235195   0.285430   0.278314  ...   0.293988   \n",
      "AGE       -0.053826 -0.048773   0.056239   0.054283  ...   0.051353   \n",
      "PAY_0      0.509426  0.474553   0.187068   0.189859  ...   0.179125   \n",
      "PAY_2      0.622780  0.575501   0.234887   0.235257  ...   0.222237   \n",
      "PAY_3      0.686775  0.632684   0.208473   0.237295  ...   0.227202   \n",
      "PAY_4      0.819835  0.716449   0.202812   0.225816  ...   0.245917   \n",
      "PAY_5      1.000000  0.816900   0.206684   0.226913  ...   0.271915   \n",
      "PAY_6      0.816900  1.000000   0.207373   0.226924  ...   0.266356   \n",
      "BILL_AMT1  0.206684  0.207373   1.000000   0.951484  ...   0.860272   \n",
      "BILL_AMT2  0.226913  0.226924   0.951484   1.000000  ...   0.892482   \n",
      "BILL_AMT3  0.243335  0.241181   0.892279   0.928326  ...   0.923969   \n",
      "BILL_AMT4  0.271915  0.266356   0.860272   0.892482  ...   1.000000   \n",
      "BILL_AMT5  0.269783  0.290894   0.829779   0.859778  ...   0.940134   \n",
      "BILL_AMT6  0.262509  0.285091   0.802650   0.831594  ...   0.900941   \n",
      "PAY_AMT1  -0.006089 -0.001496   0.140277   0.280365  ...   0.233012   \n",
      "PAY_AMT2  -0.003191 -0.005223   0.099355   0.100851  ...   0.207564   \n",
      "PAY_AMT3   0.009062  0.005834   0.156887   0.150718  ...   0.300023   \n",
      "PAY_AMT4  -0.058299  0.019018   0.158303   0.147398  ...   0.130191   \n",
      "PAY_AMT5  -0.033337 -0.046434   0.167026   0.157957  ...   0.160433   \n",
      "PAY_AMT6  -0.023027 -0.025299   0.179341   0.174256  ...   0.177637   \n",
      "def_pay    0.204149  0.186866  -0.019644  -0.014193  ...  -0.010156   \n",
      "\n",
      "           BILL_AMT5  BILL_AMT6  PAY_AMT1  PAY_AMT2  PAY_AMT3  PAY_AMT4  \\\n",
      "LIMIT_BAL   0.295562   0.290389  0.195236  0.178408  0.210167  0.203242   \n",
      "AGE         0.049345   0.047613  0.026147  0.021785  0.029247  0.021379   \n",
      "PAY_0       0.180635   0.176980 -0.079269 -0.070101 -0.070561 -0.064005   \n",
      "PAY_2       0.221348   0.219403 -0.080701 -0.058990 -0.055901 -0.046858   \n",
      "PAY_3       0.225145   0.222327  0.001295 -0.066793 -0.053311 -0.046067   \n",
      "PAY_4       0.242902   0.239154 -0.009362 -0.001944 -0.069235 -0.043461   \n",
      "PAY_5       0.269783   0.262509 -0.006089 -0.003191  0.009062 -0.058299   \n",
      "PAY_6       0.290894   0.285091 -0.001496 -0.005223  0.005834  0.019018   \n",
      "BILL_AMT1   0.829779   0.802650  0.140277  0.099355  0.156887  0.158303   \n",
      "BILL_AMT2   0.859778   0.831594  0.280365  0.100851  0.150718  0.147398   \n",
      "BILL_AMT3   0.883910   0.853320  0.244335  0.316936  0.130011  0.143405   \n",
      "BILL_AMT4   0.940134   0.900941  0.233012  0.207564  0.300023  0.130191   \n",
      "BILL_AMT5   1.000000   0.946197  0.217031  0.181246  0.252305  0.293118   \n",
      "BILL_AMT6   0.946197   1.000000  0.199965  0.172663  0.233770  0.250237   \n",
      "PAY_AMT1    0.217031   0.199965  1.000000  0.285576  0.252191  0.199558   \n",
      "PAY_AMT2    0.181246   0.172663  0.285576  1.000000  0.244770  0.180107   \n",
      "PAY_AMT3    0.252305   0.233770  0.252191  0.244770  1.000000  0.216325   \n",
      "PAY_AMT4    0.293118   0.250237  0.199558  0.180107  0.216325  1.000000   \n",
      "PAY_AMT5    0.141574   0.307729  0.148459  0.180908  0.159214  0.151830   \n",
      "PAY_AMT6    0.164184   0.115494  0.185735  0.157634  0.162740  0.157834   \n",
      "def_pay    -0.006760  -0.005372 -0.072929 -0.058579 -0.056250 -0.056827   \n",
      "\n",
      "           PAY_AMT5  PAY_AMT6   def_pay  \n",
      "LIMIT_BAL  0.217202  0.219595 -0.153520  \n",
      "AGE        0.022850  0.019478  0.013890  \n",
      "PAY_0     -0.058190 -0.058673  0.324794  \n",
      "PAY_2     -0.037093 -0.036500  0.263551  \n",
      "PAY_3     -0.035863 -0.035861  0.235253  \n",
      "PAY_4     -0.033590 -0.026565  0.216614  \n",
      "PAY_5     -0.033337 -0.023027  0.204149  \n",
      "PAY_6     -0.046434 -0.025299  0.186866  \n",
      "BILL_AMT1  0.167026  0.179341 -0.019644  \n",
      "BILL_AMT2  0.157957  0.174256 -0.014193  \n",
      "BILL_AMT3  0.179712  0.182326 -0.014076  \n",
      "BILL_AMT4  0.160433  0.177637 -0.010156  \n",
      "BILL_AMT5  0.141574  0.164184 -0.006760  \n",
      "BILL_AMT6  0.307729  0.115494 -0.005372  \n",
      "PAY_AMT1   0.148459  0.185735 -0.072929  \n",
      "PAY_AMT2   0.180908  0.157634 -0.058579  \n",
      "PAY_AMT3   0.159214  0.162740 -0.056250  \n",
      "PAY_AMT4   0.151830  0.157834 -0.056827  \n",
      "PAY_AMT5   1.000000  0.154896 -0.055124  \n",
      "PAY_AMT6   0.154896  1.000000 -0.053183  \n",
      "def_pay   -0.055124 -0.053183  1.000000  \n",
      "\n",
      "[21 rows x 21 columns]\n"
     ]
    }
   ],
   "source": [
    "## correlation\n",
    "corrMat = credit.corr()\n",
    "print(corrMat)\n",
    "\n",
    "### high correlation between \n",
    "## BILL AMT 1 & BILL AMT 2 \n",
    "## BILL AMT 2 & BILL AMT 3\n",
    "## BILL AMT 4 & BILL AMT 3, 5, & 6 \n",
    "## BILL AMT 5 & BILL AMT 6  "
   ]
  },
  {
   "cell_type": "code",
   "execution_count": 69,
   "metadata": {},
   "outputs": [
    {
     "name": "stdout",
     "output_type": "stream",
     "text": [
      "              LIMIT_BAL            AGE         PAY_0         PAY_2  \\\n",
      "LIMIT_BAL  1.683446e+10  173076.722569 -39545.930009 -46037.648360   \n",
      "AGE        1.730767e+05      84.969755     -0.408639     -0.553408   \n",
      "PAY_0     -3.954593e+04      -0.408639      1.262930      0.904330   \n",
      "PAY_2     -4.603765e+04      -0.553408      0.904330      1.433254   \n",
      "PAY_3     -4.443225e+04      -0.585263      0.772384      1.098371   \n",
      "PAY_4     -4.057181e+04      -0.535851      0.707972      0.926680   \n",
      "PAY_5     -3.667056e+04      -0.562245      0.648743      0.844886   \n",
      "PAY_6     -3.509308e+04      -0.517022      0.613292      0.792320   \n",
      "BILL_AMT1  2.727020e+09   38172.933546  15480.304170  20706.614217   \n",
      "BILL_AMT2  2.570130e+09   35613.657962  15185.916919  20045.829482   \n",
      "BILL_AMT3  2.548533e+09   34334.251320  14011.556537  18609.510991   \n",
      "BILL_AMT4  2.453926e+09   30453.108180  12950.248389  17116.298983   \n",
      "BILL_AMT5  2.331481e+09   27654.067800  12341.668685  16110.952468   \n",
      "BILL_AMT6  2.243837e+09   26137.648547  11844.759724  15642.875812   \n",
      "PAY_AMT1   4.195711e+08    3992.041735  -1475.495089  -1600.240756   \n",
      "PAY_AMT2   5.333504e+08    4626.861549  -1815.138407  -1627.192336   \n",
      "PAY_AMT3   4.801180e+08    4746.824393  -1396.168258  -1178.331282   \n",
      "PAY_AMT4   4.131202e+08    3087.324192  -1126.847945   -878.843879   \n",
      "PAY_AMT5   4.305657e+08    3218.052172   -999.107730   -678.468530   \n",
      "PAY_AMT6   5.065153e+08    3191.903901  -1172.193614   -776.835035   \n",
      "def_pay   -8.267552e+03       0.053143      0.151499      0.130960   \n",
      "\n",
      "                  PAY_3         PAY_4         PAY_5         PAY_6  \\\n",
      "LIMIT_BAL -44432.253315 -40571.811859 -36670.562325 -35093.083441   \n",
      "AGE           -0.585263     -0.535851     -0.562245     -0.517022   \n",
      "PAY_0          0.772384      0.707972      0.648743      0.613292   \n",
      "PAY_2          1.098371      0.926680      0.844886      0.792320   \n",
      "PAY_3          1.432492      1.087761      0.931455      0.870815   \n",
      "PAY_4          1.087761      1.366885      1.086161      0.963263   \n",
      "PAY_5          0.931455      1.086161      1.284114      1.064545   \n",
      "PAY_6          0.870815      0.963263      1.064545      1.322472   \n",
      "BILL_AMT1  18373.210469  17460.198259  17246.377531  17560.424872   \n",
      "BILL_AMT2  20214.071495  18790.627741  18301.285286  18573.527165   \n",
      "BILL_AMT3  18882.491544  19862.999426  19122.663330  19234.422476   \n",
      "BILL_AMT4  17494.100555  18496.423186  19822.925512  19705.551629   \n",
      "BILL_AMT5  16382.947539  17265.551898  18586.590324  20338.120325   \n",
      "BILL_AMT6  15847.089648  16651.586314  17715.690075  19524.880348   \n",
      "PAY_AMT1      25.668468   -181.295613   -114.281714    -28.500666   \n",
      "PAY_AMT2   -1841.952825    -52.358166    -83.324487   -138.399452   \n",
      "PAY_AMT3   -1123.428782  -1425.205189    180.812142    118.121022   \n",
      "PAY_AMT4    -863.762183   -796.035739  -1034.961970    342.623730   \n",
      "PAY_AMT5    -655.796002   -599.991629   -577.161017   -815.832688   \n",
      "PAY_AMT6    -763.026041   -552.137338   -463.892613   -517.216277   \n",
      "def_pay        0.116867      0.105115      0.096020      0.089194   \n",
      "\n",
      "              BILL_AMT1     BILL_AMT2  ...     BILL_AMT4     BILL_AMT5  \\\n",
      "LIMIT_BAL  2.727020e+09  2.570130e+09  ...  2.453926e+09  2.331481e+09   \n",
      "AGE        3.817293e+04  3.561366e+04  ...  3.045311e+04  2.765407e+04   \n",
      "PAY_0      1.548030e+04  1.518592e+04  ...  1.295025e+04  1.234167e+04   \n",
      "PAY_2      2.070661e+04  2.004583e+04  ...  1.711630e+04  1.611095e+04   \n",
      "PAY_3      1.837321e+04  2.021407e+04  ...  1.749410e+04  1.638295e+04   \n",
      "PAY_4      1.746020e+04  1.879063e+04  ...  1.849642e+04  1.726555e+04   \n",
      "PAY_5      1.724638e+04  1.830129e+04  ...  1.982293e+04  1.858659e+04   \n",
      "PAY_6      1.756042e+04  1.857353e+04  ...  1.970555e+04  2.033812e+04   \n",
      "BILL_AMT1  5.422240e+09  4.986670e+09  ...  4.075286e+09  3.714795e+09   \n",
      "BILL_AMT2  4.986670e+09  5.065705e+09  ...  4.086508e+09  3.720401e+09   \n",
      "BILL_AMT3  4.556511e+09  4.582086e+09  ...  4.122238e+09  3.726780e+09   \n",
      "BILL_AMT4  4.075286e+09  4.086508e+09  ...  4.138716e+09  3.677105e+09   \n",
      "BILL_AMT5  3.714795e+09  3.720401e+09  ...  3.677105e+09  3.696294e+09   \n",
      "BILL_AMT6  3.519876e+09  3.524868e+09  ...  3.451762e+09  3.425914e+09   \n",
      "PAY_AMT1   1.710894e+08  3.305146e+08  ...  2.482888e+08  2.185501e+08   \n",
      "PAY_AMT2   1.685692e+08  1.653859e+08  ...  3.076686e+08  2.538936e+08   \n",
      "PAY_AMT3   2.034048e+08  1.888731e+08  ...  3.398374e+08  2.700805e+08   \n",
      "PAY_AMT4   1.826164e+08  1.643518e+08  ...  1.312133e+08  2.791830e+08   \n",
      "PAY_AMT5   1.879091e+08  1.717652e+08  ...  1.576892e+08  1.315051e+08   \n",
      "PAY_AMT6   2.347681e+08  2.204845e+08  ...  2.031590e+08  1.774537e+08   \n",
      "def_pay   -6.003941e+02 -4.192891e+02  ... -2.711999e+02 -1.705974e+02   \n",
      "\n",
      "              BILL_AMT6      PAY_AMT1      PAY_AMT2      PAY_AMT3  \\\n",
      "LIMIT_BAL  2.243837e+09  4.195711e+08  5.333504e+08  4.801180e+08   \n",
      "AGE        2.613765e+04  3.992042e+03  4.626862e+03  4.746824e+03   \n",
      "PAY_0      1.184476e+04 -1.475495e+03 -1.815138e+03 -1.396168e+03   \n",
      "PAY_2      1.564288e+04 -1.600241e+03 -1.627192e+03 -1.178331e+03   \n",
      "PAY_3      1.584709e+04  2.566847e+01 -1.841953e+03 -1.123429e+03   \n",
      "PAY_4      1.665159e+04 -1.812956e+02 -5.235817e+01 -1.425205e+03   \n",
      "PAY_5      1.771569e+04 -1.142817e+02 -8.332449e+01  1.808121e+02   \n",
      "PAY_6      1.952488e+04 -2.850067e+01 -1.383995e+02  1.181210e+02   \n",
      "BILL_AMT1  3.519876e+09  1.710894e+08  1.685692e+08  2.034048e+08   \n",
      "BILL_AMT2  3.524868e+09  3.305146e+08  1.653859e+08  1.888731e+08   \n",
      "BILL_AMT3  3.524247e+09  2.806565e+08  5.064226e+08  1.587478e+08   \n",
      "BILL_AMT4  3.451762e+09  2.482888e+08  3.076686e+08  3.398374e+08   \n",
      "BILL_AMT5  3.425914e+09  2.185501e+08  2.538936e+08  2.700805e+08   \n",
      "BILL_AMT6  3.546692e+09  1.972478e+08  2.369244e+08  2.451233e+08   \n",
      "PAY_AMT1   1.972478e+08  2.743423e+08  1.089849e+08  7.354626e+07   \n",
      "PAY_AMT2   2.369244e+08  1.089849e+08  5.308817e+08  9.929841e+07   \n",
      "PAY_AMT3   2.451233e+08  7.354626e+07  9.929841e+07  3.100051e+08   \n",
      "PAY_AMT4   2.334670e+08  5.178189e+07  6.501168e+07  5.966970e+07   \n",
      "PAY_AMT5   2.799982e+08  3.756893e+07  6.368414e+07  4.282921e+07   \n",
      "PAY_AMT6   1.222761e+08  5.469033e+07  6.456816e+07  5.093879e+07   \n",
      "def_pay   -1.327963e+02 -5.013746e+02 -5.602107e+02 -4.110763e+02   \n",
      "\n",
      "               PAY_AMT4      PAY_AMT5      PAY_AMT6      def_pay  \n",
      "LIMIT_BAL  4.131202e+08  4.305657e+08  5.065153e+08 -8267.551759  \n",
      "AGE        3.087324e+03  3.218052e+03  3.191904e+03     0.053143  \n",
      "PAY_0     -1.126848e+03 -9.991077e+02 -1.172194e+03     0.151499  \n",
      "PAY_2     -8.788439e+02 -6.784685e+02 -7.768350e+02     0.130960  \n",
      "PAY_3     -8.637622e+02 -6.557960e+02 -7.630260e+02     0.116867  \n",
      "PAY_4     -7.960357e+02 -5.999916e+02 -5.521373e+02     0.105115  \n",
      "PAY_5     -1.034962e+03 -5.771610e+02 -4.638926e+02     0.096020  \n",
      "PAY_6      3.426237e+02 -8.158327e+02 -5.172163e+02     0.089194  \n",
      "BILL_AMT1  1.826164e+08  1.879091e+08  2.347681e+08  -600.394108  \n",
      "BILL_AMT2  1.643518e+08  1.717652e+08  2.204845e+08  -419.289137  \n",
      "BILL_AMT3  1.558003e+08  1.904126e+08  2.247817e+08  -405.153680  \n",
      "BILL_AMT4  1.312133e+08  1.576892e+08  2.031590e+08  -271.199885  \n",
      "BILL_AMT5  2.791830e+08  1.315051e+08  1.774537e+08  -170.597447  \n",
      "BILL_AMT6  2.334670e+08  2.799982e+08  1.222761e+08  -132.796294  \n",
      "PAY_AMT1   5.178189e+07  3.756893e+07  5.469033e+07  -501.374552  \n",
      "PAY_AMT2   6.501168e+07  6.368414e+07  6.456816e+07  -560.210740  \n",
      "PAY_AMT3   5.966970e+07  4.282921e+07  5.093879e+07  -411.076284  \n",
      "PAY_AMT4   2.454286e+08  3.634098e+07  4.395747e+07  -369.515887  \n",
      "PAY_AMT5   3.634098e+07  2.334266e+08  4.207110e+07  -349.562530  \n",
      "PAY_AMT6   4.395747e+07  4.207110e+07  3.160383e+08  -392.426415  \n",
      "def_pay   -3.695159e+02 -3.495625e+02 -3.924264e+02     0.172276  \n",
      "\n",
      "[21 rows x 21 columns]\n"
     ]
    }
   ],
   "source": [
    "## covariance\n",
    "covMat = credit.cov()\n",
    "print(covMat)"
   ]
  },
  {
   "cell_type": "code",
   "execution_count": 70,
   "metadata": {},
   "outputs": [
    {
     "data": {
      "image/png": "[encoded data removed]",
      "text/plain": [
       "<Figure size 432x288 with 1 Axes>"
      ]
     },
     "metadata": {
      "needs_background": "light"
     },
     "output_type": "display_data"
    }
   ],
   "source": [
    "## histogram for age\n",
    "plt.hist(credit['AGE'])\n",
    "plt.show()"
   ]
  },
  {
   "cell_type": "code",
   "execution_count": 71,
   "metadata": {},
   "outputs": [
    {
     "data": {
      "image/png": "[encoded data removed]",
      "text/plain": [
       "<Figure size 432x288 with 1 Axes>"
      ]
     },
     "metadata": {
      "needs_background": "light"
     },
     "output_type": "display_data"
    }
   ],
   "source": [
    "## histogram for age by decade\n",
    "plt.hist(credit['age_by_decade'])\n",
    "plt.show()"
   ]
  },
  {
   "cell_type": "code",
   "execution_count": 72,
   "metadata": {},
   "outputs": [
    {
     "data": {
      "image/png": "[encoded data removed]",
      "text/plain": [
       "<Figure size 432x288 with 1 Axes>"
      ]
     },
     "metadata": {
      "needs_background": "light"
     },
     "output_type": "display_data"
    }
   ],
   "source": [
    "## histogram for education level\n",
    "plt.hist(credit['EDUCATION'])\n",
    "plt.show()"
   ]
  },
  {
   "cell_type": "code",
   "execution_count": 73,
   "metadata": {},
   "outputs": [
    {
     "data": {
      "image/png": "[encoded data removed]",
      "text/plain": [
       "<Figure size 432x288 with 1 Axes>"
      ]
     },
     "metadata": {
      "needs_background": "light"
     },
     "output_type": "display_data"
    }
   ],
   "source": [
    "## histogram for relationship status\n",
    "plt.hist(credit['MARRIAGE'])\n",
    "plt.show()"
   ]
  },
  {
   "cell_type": "code",
   "execution_count": 75,
   "metadata": {},
   "outputs": [
    {
     "data": {
      "text/plain": [
       "<matplotlib.axes._subplots.AxesSubplot at 0x1a1edaa950>"
      ]
     },
     "execution_count": 75,
     "metadata": {},
     "output_type": "execute_result"
    },
    {
     "data": {
      "image/png": "[encoded data removed]",
      "text/plain": [
       "<Figure size 432x288 with 1 Axes>"
      ]
     },
     "metadata": {
      "needs_background": "light"
     },
     "output_type": "display_data"
    }
   ],
   "source": [
    "## male v female default stacked bar graph (0 = no default, 1 = default)\n",
    "credit.groupby(['SEX','def_pay']).size().unstack().plot(kind='bar', stacked = True)"
   ]
  },
  {
   "cell_type": "code",
   "execution_count": 77,
   "metadata": {},
   "outputs": [
    {
     "data": {
      "text/html": [
       "<div>\n",
       "<style scoped>\n",
       "    .dataframe tbody tr th:only-of-type {\n",
       "        vertical-align: middle;\n",
       "    }\n",
       "\n",
       "    .dataframe tbody tr th {\n",
       "        vertical-align: top;\n",
       "    }\n",
       "\n",
       "    .dataframe thead tr th {\n",
       "        text-align: left;\n",
       "    }\n",
       "\n",
       "    .dataframe thead tr:last-of-type th {\n",
       "        text-align: right;\n",
       "    }\n",
       "</style>\n",
       "<table border=\"1\" class=\"dataframe\">\n",
       "  <thead>\n",
       "    <tr>\n",
       "      <th></th>\n",
       "      <th colspan=\"2\" halign=\"left\">def_pay</th>\n",
       "    </tr>\n",
       "    <tr>\n",
       "      <th></th>\n",
       "      <th>count</th>\n",
       "      <th>mean</th>\n",
       "    </tr>\n",
       "    <tr>\n",
       "      <th>AGE</th>\n",
       "      <th></th>\n",
       "      <th></th>\n",
       "    </tr>\n",
       "  </thead>\n",
       "  <tbody>\n",
       "    <tr>\n",
       "      <td>21</td>\n",
       "      <td>67</td>\n",
       "      <td>0.208955</td>\n",
       "    </tr>\n",
       "    <tr>\n",
       "      <td>22</td>\n",
       "      <td>560</td>\n",
       "      <td>0.301786</td>\n",
       "    </tr>\n",
       "    <tr>\n",
       "      <td>23</td>\n",
       "      <td>931</td>\n",
       "      <td>0.265306</td>\n",
       "    </tr>\n",
       "    <tr>\n",
       "      <td>24</td>\n",
       "      <td>1127</td>\n",
       "      <td>0.266193</td>\n",
       "    </tr>\n",
       "    <tr>\n",
       "      <td>25</td>\n",
       "      <td>1186</td>\n",
       "      <td>0.254637</td>\n",
       "    </tr>\n",
       "    <tr>\n",
       "      <td>26</td>\n",
       "      <td>1256</td>\n",
       "      <td>0.201433</td>\n",
       "    </tr>\n",
       "    <tr>\n",
       "      <td>27</td>\n",
       "      <td>1477</td>\n",
       "      <td>0.211916</td>\n",
       "    </tr>\n",
       "    <tr>\n",
       "      <td>28</td>\n",
       "      <td>1409</td>\n",
       "      <td>0.202981</td>\n",
       "    </tr>\n",
       "    <tr>\n",
       "      <td>29</td>\n",
       "      <td>1605</td>\n",
       "      <td>0.195016</td>\n",
       "    </tr>\n",
       "    <tr>\n",
       "      <td>30</td>\n",
       "      <td>1395</td>\n",
       "      <td>0.196416</td>\n",
       "    </tr>\n",
       "    <tr>\n",
       "      <td>31</td>\n",
       "      <td>1217</td>\n",
       "      <td>0.188168</td>\n",
       "    </tr>\n",
       "    <tr>\n",
       "      <td>32</td>\n",
       "      <td>1158</td>\n",
       "      <td>0.194301</td>\n",
       "    </tr>\n",
       "    <tr>\n",
       "      <td>33</td>\n",
       "      <td>1146</td>\n",
       "      <td>0.187609</td>\n",
       "    </tr>\n",
       "    <tr>\n",
       "      <td>34</td>\n",
       "      <td>1162</td>\n",
       "      <td>0.198795</td>\n",
       "    </tr>\n",
       "    <tr>\n",
       "      <td>35</td>\n",
       "      <td>1113</td>\n",
       "      <td>0.203055</td>\n",
       "    </tr>\n",
       "    <tr>\n",
       "      <td>36</td>\n",
       "      <td>1108</td>\n",
       "      <td>0.229242</td>\n",
       "    </tr>\n",
       "    <tr>\n",
       "      <td>37</td>\n",
       "      <td>1041</td>\n",
       "      <td>0.219981</td>\n",
       "    </tr>\n",
       "    <tr>\n",
       "      <td>38</td>\n",
       "      <td>944</td>\n",
       "      <td>0.205508</td>\n",
       "    </tr>\n",
       "    <tr>\n",
       "      <td>39</td>\n",
       "      <td>954</td>\n",
       "      <td>0.208595</td>\n",
       "    </tr>\n",
       "    <tr>\n",
       "      <td>40</td>\n",
       "      <td>870</td>\n",
       "      <td>0.214943</td>\n",
       "    </tr>\n",
       "    <tr>\n",
       "      <td>41</td>\n",
       "      <td>824</td>\n",
       "      <td>0.224515</td>\n",
       "    </tr>\n",
       "    <tr>\n",
       "      <td>42</td>\n",
       "      <td>794</td>\n",
       "      <td>0.232997</td>\n",
       "    </tr>\n",
       "    <tr>\n",
       "      <td>43</td>\n",
       "      <td>670</td>\n",
       "      <td>0.223881</td>\n",
       "    </tr>\n",
       "    <tr>\n",
       "      <td>44</td>\n",
       "      <td>700</td>\n",
       "      <td>0.231429</td>\n",
       "    </tr>\n",
       "    <tr>\n",
       "      <td>45</td>\n",
       "      <td>617</td>\n",
       "      <td>0.188006</td>\n",
       "    </tr>\n",
       "    <tr>\n",
       "      <td>46</td>\n",
       "      <td>570</td>\n",
       "      <td>0.275439</td>\n",
       "    </tr>\n",
       "    <tr>\n",
       "      <td>47</td>\n",
       "      <td>501</td>\n",
       "      <td>0.239521</td>\n",
       "    </tr>\n",
       "    <tr>\n",
       "      <td>48</td>\n",
       "      <td>466</td>\n",
       "      <td>0.223176</td>\n",
       "    </tr>\n",
       "    <tr>\n",
       "      <td>49</td>\n",
       "      <td>452</td>\n",
       "      <td>0.263274</td>\n",
       "    </tr>\n",
       "    <tr>\n",
       "      <td>50</td>\n",
       "      <td>411</td>\n",
       "      <td>0.245742</td>\n",
       "    </tr>\n",
       "    <tr>\n",
       "      <td>51</td>\n",
       "      <td>340</td>\n",
       "      <td>0.258824</td>\n",
       "    </tr>\n",
       "    <tr>\n",
       "      <td>52</td>\n",
       "      <td>304</td>\n",
       "      <td>0.256579</td>\n",
       "    </tr>\n",
       "    <tr>\n",
       "      <td>53</td>\n",
       "      <td>325</td>\n",
       "      <td>0.227692</td>\n",
       "    </tr>\n",
       "    <tr>\n",
       "      <td>54</td>\n",
       "      <td>247</td>\n",
       "      <td>0.226721</td>\n",
       "    </tr>\n",
       "    <tr>\n",
       "      <td>55</td>\n",
       "      <td>209</td>\n",
       "      <td>0.272727</td>\n",
       "    </tr>\n",
       "    <tr>\n",
       "      <td>56</td>\n",
       "      <td>178</td>\n",
       "      <td>0.275281</td>\n",
       "    </tr>\n",
       "    <tr>\n",
       "      <td>57</td>\n",
       "      <td>122</td>\n",
       "      <td>0.221311</td>\n",
       "    </tr>\n",
       "    <tr>\n",
       "      <td>58</td>\n",
       "      <td>122</td>\n",
       "      <td>0.254098</td>\n",
       "    </tr>\n",
       "    <tr>\n",
       "      <td>59</td>\n",
       "      <td>83</td>\n",
       "      <td>0.253012</td>\n",
       "    </tr>\n",
       "    <tr>\n",
       "      <td>60</td>\n",
       "      <td>67</td>\n",
       "      <td>0.343284</td>\n",
       "    </tr>\n",
       "    <tr>\n",
       "      <td>61</td>\n",
       "      <td>56</td>\n",
       "      <td>0.375000</td>\n",
       "    </tr>\n",
       "    <tr>\n",
       "      <td>62</td>\n",
       "      <td>44</td>\n",
       "      <td>0.159091</td>\n",
       "    </tr>\n",
       "    <tr>\n",
       "      <td>63</td>\n",
       "      <td>31</td>\n",
       "      <td>0.258065</td>\n",
       "    </tr>\n",
       "    <tr>\n",
       "      <td>64</td>\n",
       "      <td>31</td>\n",
       "      <td>0.290323</td>\n",
       "    </tr>\n",
       "    <tr>\n",
       "      <td>65</td>\n",
       "      <td>24</td>\n",
       "      <td>0.208333</td>\n",
       "    </tr>\n",
       "    <tr>\n",
       "      <td>66</td>\n",
       "      <td>25</td>\n",
       "      <td>0.280000</td>\n",
       "    </tr>\n",
       "    <tr>\n",
       "      <td>67</td>\n",
       "      <td>16</td>\n",
       "      <td>0.312500</td>\n",
       "    </tr>\n",
       "    <tr>\n",
       "      <td>68</td>\n",
       "      <td>5</td>\n",
       "      <td>0.200000</td>\n",
       "    </tr>\n",
       "    <tr>\n",
       "      <td>69</td>\n",
       "      <td>15</td>\n",
       "      <td>0.200000</td>\n",
       "    </tr>\n",
       "    <tr>\n",
       "      <td>70</td>\n",
       "      <td>10</td>\n",
       "      <td>0.200000</td>\n",
       "    </tr>\n",
       "    <tr>\n",
       "      <td>71</td>\n",
       "      <td>3</td>\n",
       "      <td>0.000000</td>\n",
       "    </tr>\n",
       "    <tr>\n",
       "      <td>72</td>\n",
       "      <td>3</td>\n",
       "      <td>0.333333</td>\n",
       "    </tr>\n",
       "    <tr>\n",
       "      <td>73</td>\n",
       "      <td>4</td>\n",
       "      <td>0.750000</td>\n",
       "    </tr>\n",
       "    <tr>\n",
       "      <td>74</td>\n",
       "      <td>1</td>\n",
       "      <td>0.000000</td>\n",
       "    </tr>\n",
       "    <tr>\n",
       "      <td>75</td>\n",
       "      <td>3</td>\n",
       "      <td>0.333333</td>\n",
       "    </tr>\n",
       "    <tr>\n",
       "      <td>79</td>\n",
       "      <td>1</td>\n",
       "      <td>0.000000</td>\n",
       "    </tr>\n",
       "  </tbody>\n",
       "</table>\n",
       "</div>"
      ],
      "text/plain": [
       "    def_pay          \n",
       "      count      mean\n",
       "AGE                  \n",
       "21       67  0.208955\n",
       "22      560  0.301786\n",
       "23      931  0.265306\n",
       "24     1127  0.266193\n",
       "25     1186  0.254637\n",
       "26     1256  0.201433\n",
       "27     1477  0.211916\n",
       "28     1409  0.202981\n",
       "29     1605  0.195016\n",
       "30     1395  0.196416\n",
       "31     1217  0.188168\n",
       "32     1158  0.194301\n",
       "33     1146  0.187609\n",
       "34     1162  0.198795\n",
       "35     1113  0.203055\n",
       "36     1108  0.229242\n",
       "37     1041  0.219981\n",
       "38      944  0.205508\n",
       "39      954  0.208595\n",
       "40      870  0.214943\n",
       "41      824  0.224515\n",
       "42      794  0.232997\n",
       "43      670  0.223881\n",
       "44      700  0.231429\n",
       "45      617  0.188006\n",
       "46      570  0.275439\n",
       "47      501  0.239521\n",
       "48      466  0.223176\n",
       "49      452  0.263274\n",
       "50      411  0.245742\n",
       "51      340  0.258824\n",
       "52      304  0.256579\n",
       "53      325  0.227692\n",
       "54      247  0.226721\n",
       "55      209  0.272727\n",
       "56      178  0.275281\n",
       "57      122  0.221311\n",
       "58      122  0.254098\n",
       "59       83  0.253012\n",
       "60       67  0.343284\n",
       "61       56  0.375000\n",
       "62       44  0.159091\n",
       "63       31  0.258065\n",
       "64       31  0.290323\n",
       "65       24  0.208333\n",
       "66       25  0.280000\n",
       "67       16  0.312500\n",
       "68        5  0.200000\n",
       "69       15  0.200000\n",
       "70       10  0.200000\n",
       "71        3  0.000000\n",
       "72        3  0.333333\n",
       "73        4  0.750000\n",
       "74        1  0.000000\n",
       "75        3  0.333333\n",
       "79        1  0.000000"
      ]
     },
     "execution_count": 77,
     "metadata": {},
     "output_type": "execute_result"
    }
   ],
   "source": [
    "## default risk by age\n",
    "credit[[\"AGE\", \"def_pay\"]].groupby(['AGE']).agg({'def_pay': ['count','mean']})\n"
   ]
  },
  {
   "cell_type": "code",
   "execution_count": 78,
   "metadata": {},
   "outputs": [
    {
     "data": {
      "text/html": [
       "<div>\n",
       "<style scoped>\n",
       "    .dataframe tbody tr th:only-of-type {\n",
       "        vertical-align: middle;\n",
       "    }\n",
       "\n",
       "    .dataframe tbody tr th {\n",
       "        vertical-align: top;\n",
       "    }\n",
       "\n",
       "    .dataframe thead tr th {\n",
       "        text-align: left;\n",
       "    }\n",
       "\n",
       "    .dataframe thead tr:last-of-type th {\n",
       "        text-align: right;\n",
       "    }\n",
       "</style>\n",
       "<table border=\"1\" class=\"dataframe\">\n",
       "  <thead>\n",
       "    <tr>\n",
       "      <th></th>\n",
       "      <th colspan=\"2\" halign=\"left\">def_pay</th>\n",
       "    </tr>\n",
       "    <tr>\n",
       "      <th></th>\n",
       "      <th>count</th>\n",
       "      <th>mean</th>\n",
       "    </tr>\n",
       "    <tr>\n",
       "      <th>age_by_decade</th>\n",
       "      <th></th>\n",
       "      <th></th>\n",
       "    </tr>\n",
       "  </thead>\n",
       "  <tbody>\n",
       "    <tr>\n",
       "      <td>20s</td>\n",
       "      <td>9618</td>\n",
       "      <td>0.228426</td>\n",
       "    </tr>\n",
       "    <tr>\n",
       "      <td>30s</td>\n",
       "      <td>11238</td>\n",
       "      <td>0.202527</td>\n",
       "    </tr>\n",
       "    <tr>\n",
       "      <td>40s</td>\n",
       "      <td>6464</td>\n",
       "      <td>0.229734</td>\n",
       "    </tr>\n",
       "    <tr>\n",
       "      <td>50s</td>\n",
       "      <td>2341</td>\n",
       "      <td>0.248612</td>\n",
       "    </tr>\n",
       "    <tr>\n",
       "      <td>60s</td>\n",
       "      <td>314</td>\n",
       "      <td>0.283439</td>\n",
       "    </tr>\n",
       "    <tr>\n",
       "      <td>70s</td>\n",
       "      <td>25</td>\n",
       "      <td>0.280000</td>\n",
       "    </tr>\n",
       "  </tbody>\n",
       "</table>\n",
       "</div>"
      ],
      "text/plain": [
       "              def_pay          \n",
       "                count      mean\n",
       "age_by_decade                  \n",
       "20s              9618  0.228426\n",
       "30s             11238  0.202527\n",
       "40s              6464  0.229734\n",
       "50s              2341  0.248612\n",
       "60s               314  0.283439\n",
       "70s                25  0.280000"
      ]
     },
     "execution_count": 78,
     "metadata": {},
     "output_type": "execute_result"
    }
   ],
   "source": [
    "## default risk by decade\n",
    "credit[['age_by_decade', 'def_pay']].groupby(['age_by_decade']).agg({'def_pay': ['count','mean']})\n"
   ]
  },
  {
   "cell_type": "code",
   "execution_count": 79,
   "metadata": {},
   "outputs": [
    {
     "data": {
      "image/png": "[encoded data removed]",
      "text/plain": [
       "<Figure size 432x288 with 1 Axes>"
      ]
     },
     "metadata": {
      "needs_background": "light"
     },
     "output_type": "display_data"
    }
   ],
   "source": [
    "## scatter plot - Bill Amt 1 & Bill Amt 2\n",
    "x = credit['BILL_AMT1']\n",
    "y = credit['BILL_AMT2']\n",
    "plt.scatter(x,y)\n",
    "plt.show()"
   ]
  },
  {
   "cell_type": "code",
   "execution_count": 81,
   "metadata": {},
   "outputs": [
    {
     "data": {
      "image/png": "[encoded data removed]",
      "text/plain": [
       "<Figure size 432x288 with 1 Axes>"
      ]
     },
     "metadata": {
      "needs_background": "light"
     },
     "output_type": "display_data"
    }
   ],
   "source": [
    "## scatter plot - Bill Amt 4 & Bill Amt 5\n",
    "x = credit['BILL_AMT4']\n",
    "y = credit['BILL_AMT5']\n",
    "plt.scatter(x,y)\n",
    "plt.show()"
   ]
  },
  {
   "cell_type": "code",
   "execution_count": 82,
   "metadata": {},
   "outputs": [
    {
     "data": {
      "image/png": "[encoded data removed]",
      "text/plain": [
       "<Figure size 432x288 with 1 Axes>"
      ]
     },
     "metadata": {
      "needs_background": "light"
     },
     "output_type": "display_data"
    }
   ],
   "source": [
    "## scatter plot - Bill Amt 2 & Bill Amt 3\n",
    "x = credit['BILL_AMT2']\n",
    "y = credit['BILL_AMT3']\n",
    "plt.scatter(x,y)\n",
    "plt.show()"
   ]
  },
  {
   "cell_type": "code",
   "execution_count": 83,
   "metadata": {},
   "outputs": [
    {
     "data": {
      "text/plain": [
       "<matplotlib.axes._subplots.AxesSubplot at 0x1a21799850>"
      ]
     },
     "execution_count": 83,
     "metadata": {},
     "output_type": "execute_result"
    },
    {
     "data": {
      "image/png": "[encoded data removed]",
      "text/plain": [
       "<Figure size 432x288 with 1 Axes>"
      ]
     },
     "metadata": {
      "needs_background": "light"
     },
     "output_type": "display_data"
    }
   ],
   "source": [
    "sns.boxplot(x='def_pay',hue='MARRIAGE', y='AGE',data=credit,palette=\"rainbow\")"
   ]
  },
  {
   "cell_type": "code",
   "execution_count": 84,
   "metadata": {},
   "outputs": [
    {
     "data": {
      "text/plain": [
       "<matplotlib.axes._subplots.AxesSubplot at 0x1a1d7dad10>"
      ]
     },
     "execution_count": 84,
     "metadata": {},
     "output_type": "execute_result"
    },
    {
     "data": {
      "image/png": "[encoded data removed]",
      "text/plain": [
       "<Figure size 432x288 with 1 Axes>"
      ]
     },
     "metadata": {
      "needs_background": "light"
     },
     "output_type": "display_data"
    }
   ],
   "source": [
    "sns.boxplot(x='def_pay',hue='EDUCATION', y='AGE',data=credit,palette=\"rainbow\" )"
   ]
  },
  {
   "cell_type": "code",
   "execution_count": 85,
   "metadata": {},
   "outputs": [
    {
     "data": {
      "text/plain": [
       "<matplotlib.axes._subplots.AxesSubplot at 0x1a1ee9ef50>"
      ]
     },
     "execution_count": 85,
     "metadata": {},
     "output_type": "execute_result"
    },
    {
     "data": {
      "image/png": "[encoded data removed]",
      "text/plain": [
       "<Figure size 432x288 with 1 Axes>"
      ]
     },
     "metadata": {
      "needs_background": "light"
     },
     "output_type": "display_data"
    }
   ],
   "source": [
    "sns.boxplot(x='SEX',hue='def_pay', y='LIMIT_BAL',data=credit,palette=\"rainbow\")"
   ]
  },
  {
   "cell_type": "code",
   "execution_count": 86,
   "metadata": {},
   "outputs": [
    {
     "data": {
      "text/plain": [
       "<matplotlib.axes._subplots.AxesSubplot at 0x1a1ed4a390>"
      ]
     },
     "execution_count": 86,
     "metadata": {},
     "output_type": "execute_result"
    },
    {
     "data": {
      "image/png": "[encoded data removed]",
      "text/plain": [
       "<Figure size 432x288 with 1 Axes>"
      ]
     },
     "metadata": {
      "needs_background": "light"
     },
     "output_type": "display_data"
    }
   ],
   "source": [
    "sns.boxplot(x='MARRIAGE',hue='def_pay', y='LIMIT_BAL',data=credit,palette=\"rainbow\")"
   ]
  },
  {
   "cell_type": "code",
   "execution_count": 87,
   "metadata": {},
   "outputs": [
    {
     "data": {
      "text/plain": [
       "<matplotlib.axes._subplots.AxesSubplot at 0x1a1dedc690>"
      ]
     },
     "execution_count": 87,
     "metadata": {},
     "output_type": "execute_result"
    },
    {
     "data": {
      "image/png": "[encoded data removed]",
      "text/plain": [
       "<Figure size 432x288 with 1 Axes>"
      ]
     },
     "metadata": {
      "needs_background": "light"
     },
     "output_type": "display_data"
    }
   ],
   "source": [
    "sns.boxplot(x='age_by_decade',hue='def_pay', y='LIMIT_BAL',data=credit,palette=\"rainbow\")"
   ]
  },
  {
   "cell_type": "code",
   "execution_count": 88,
   "metadata": {},
   "outputs": [
    {
     "data": {
      "text/plain": [
       "<matplotlib.axes._subplots.AxesSubplot at 0x1a1e15b5d0>"
      ]
     },
     "execution_count": 88,
     "metadata": {},
     "output_type": "execute_result"
    },
    {
     "data": {
      "image/png": "[encoded data removed]",
      "text/plain": [
       "<Figure size 432x288 with 1 Axes>"
      ]
     },
     "metadata": {
      "needs_background": "light"
     },
     "output_type": "display_data"
    }
   ],
   "source": [
    "sns.boxplot(x='EDUCATION',hue='def_pay', y='LIMIT_BAL',data=credit,palette=\"rainbow\")"
   ]
  },
  {
   "cell_type": "code",
   "execution_count": 91,
   "metadata": {},
   "outputs": [
    {
     "data": {
      "text/plain": [
       "<matplotlib.axes._subplots.AxesSubplot at 0x1a20325790>"
      ]
     },
     "execution_count": 91,
     "metadata": {},
     "output_type": "execute_result"
    },
    {
     "data": {
      "image/png": "[encoded data removed]",
      "text/plain": [
       "<Figure size 2160x720 with 2 Axes>"
      ]
     },
     "metadata": {
      "needs_background": "light"
     },
     "output_type": "display_data"
    }
   ],
   "source": [
    "## correlation heatmap\n",
    "corrMat = credit.corr()\n",
    "plt.subplots(figsize=(30,10))\n",
    "sns.heatmap( corrMat, square=True, annot=True, fmt=\".1f\", cmap=\"Blues\")\n",
    "\n",
    "## limit balance is most negatively correlated feature\n",
    "## most highly correlated are pay_x amounts w/each other bill_amtx with each other\n",
    "## correlation between repayment status and default payment - makes sense if you are behind on payments, more likely to default\n"
   ]
  },
  {
   "cell_type": "code",
   "execution_count": null,
   "metadata": {},
   "outputs": [],
   "source": []
  }
 ],
 "metadata": {
  "kernelspec": {
   "display_name": "Python 3",
   "language": "python",
   "name": "python3"
  },
  "language_info": {
   "codemirror_mode": {
    "name": "ipython",
    "version": 3
   },
   "file_extension": ".py",
   "mimetype": "text/x-python",
   "name": "python",
   "nbconvert_exporter": "python",
   "pygments_lexer": "ipython3",
   "version": "3.7.4"
  }
 },
 "nbformat": 4,
 "nbformat_minor": 2
}
